{
  "cells": [
    {
      "cell_type": "code",
      "execution_count": null,
      "metadata": {
        "colab": {
          "base_uri": "https://localhost:8080/"
        },
        "id": "U8_qkDPzn8rt",
        "outputId": "cf5aa18b-4934-456a-dbb0-55e7f9a2a3f4"
      },
      "outputs": [
        {
          "output_type": "stream",
          "name": "stdout",
          "text": [
            "Mounted at /content/drive\n"
          ]
        }
      ],
      "source": [
        "from google.colab import drive\n",
        "drive.mount('/content/drive')\n"
      ]
    },
    {
      "cell_type": "code",
      "execution_count": null,
      "metadata": {
        "colab": {
          "base_uri": "https://localhost:8080/"
        },
        "id": "OgTpVAqjoYgt",
        "outputId": "bef03220-2613-4d1d-d715-3a1641b95950"
      },
      "outputs": [
        {
          "output_type": "stream",
          "name": "stdout",
          "text": [
            "Looking in indexes: https://pypi.org/simple, https://us-python.pkg.dev/colab-wheels/public/simple/\n",
            "Requirement already satisfied: pytesseract in /usr/local/lib/python3.7/dist-packages (0.3.9)\n",
            "Requirement already satisfied: packaging>=21.3 in /usr/local/lib/python3.7/dist-packages (from pytesseract) (21.3)\n",
            "Requirement already satisfied: Pillow>=8.0.0 in /usr/local/lib/python3.7/dist-packages (from pytesseract) (9.1.1)\n",
            "Requirement already satisfied: pyparsing!=3.0.5,>=2.0.2 in /usr/local/lib/python3.7/dist-packages (from packaging>=21.3->pytesseract) (3.0.9)\n"
          ]
        }
      ],
      "source": [
        "!pip install pytesseract"
      ]
    },
    {
      "cell_type": "code",
      "execution_count": null,
      "metadata": {
        "colab": {
          "base_uri": "https://localhost:8080/"
        },
        "id": "FTqPSDQfotgH",
        "outputId": "7ceb1ad3-a2d5-4ca4-fef7-283acc3acb0c"
      },
      "outputs": [
        {
          "output_type": "stream",
          "name": "stdout",
          "text": [
            "Populating the interactive namespace from numpy and matplotlib\n"
          ]
        }
      ],
      "source": [
        "#import all required libraries \n",
        "%pylab inline\n",
        "import cv2\n",
        "import numpy as np \n",
        "import pandas as pd\n",
        "import pytesseract\n",
        "import matplotlib.pyplot as plt\n",
        "import statistics\n",
        "from time import sleep\n",
        "import random\n",
        "from google.colab.patches import cv2_imshow\n",
        "from imutils import contours\n"
      ]
    },
    {
      "cell_type": "code",
      "source": [
        "!pip install --ignore-installed Pillow==9.0.0"
      ],
      "metadata": {
        "colab": {
          "base_uri": "https://localhost:8080/",
          "height": 225
        },
        "id": "AMpoYhUDIc9i",
        "outputId": "f5d071dd-4027-4584-c9a2-9d3e46456388"
      },
      "execution_count": null,
      "outputs": [
        {
          "output_type": "stream",
          "name": "stdout",
          "text": [
            "Looking in indexes: https://pypi.org/simple, https://us-python.pkg.dev/colab-wheels/public/simple/\n",
            "Collecting Pillow==9.0.0\n",
            "  Using cached Pillow-9.0.0-cp37-cp37m-manylinux_2_17_x86_64.manylinux2014_x86_64.whl (4.3 MB)\n",
            "Installing collected packages: Pillow\n",
            "\u001b[31mERROR: pip's dependency resolver does not currently take into account all the packages that are installed. This behaviour is the source of the following dependency conflicts.\n",
            "albumentations 0.1.12 requires imgaug<0.2.7,>=0.2.5, but you have imgaug 0.2.9 which is incompatible.\u001b[0m\n",
            "Successfully installed Pillow-9.1.1\n"
          ]
        },
        {
          "output_type": "display_data",
          "data": {
            "application/vnd.colab-display-data+json": {
              "pip_warning": {
                "packages": [
                  "PIL"
                ]
              }
            }
          },
          "metadata": {}
        }
      ]
    },
    {
      "cell_type": "code",
      "execution_count": null,
      "metadata": {
        "id": "fu081CaBpY95",
        "cellView": "form"
      },
      "outputs": [],
      "source": [
        "#@title Default title text\n",
        "\n",
        "\n",
        "# Load image, grayscale, Otsu's threshold\n",
        "image = cv2.imread('/content/drive/MyDrive/Colab Notebooks/Resources/BangDiem4.jpg')\n",
        "original = image.copy()\n",
        "gray = cv2.cvtColor(image, cv2.COLOR_BGR2GRAY)\n",
        "thresh = cv2.threshold(gray, 0, 255, cv2.THRESH_BINARY_INV + cv2.THRESH_OTSU)[1]\n",
        "\n",
        "# Remove text characters with morph open and contour filtering\n",
        "kernel = cv2.getStructuringElement(cv2.MORPH_RECT, (3,3))\n",
        "opening = cv2.morphologyEx(thresh, cv2.MORPH_OPEN, kernel, iterations=1)\n",
        "cnts = cv2.findContours(opening, cv2.RETR_TREE, cv2.CHAIN_APPROX_SIMPLE)\n",
        "cnts = cnts[0] if len(cnts) == 2 else cnts[1]\n",
        "for c in cnts:\n",
        "    area = cv2.contourArea(c)\n",
        "    if area < 500:\n",
        "        cv2.drawContours(opening, [c], -1, (0,0,0), -1)\n",
        "\n",
        "# Repair table lines, sort contours, and extract ROI\n",
        "close = 255 - cv2.morphologyEx(opening, cv2.MORPH_CLOSE, kernel, iterations=1)\n",
        "cnts = cv2.findContours(close, cv2.RETR_TREE, cv2.CHAIN_APPROX_SIMPLE)\n",
        "cnts = cnts[0] if len(cnts) == 2 else cnts[1]\n",
        "(cnts, _) = contours.sort_contours(cnts, method=\"top-to-bottom\")\n",
        "for c in cnts:\n",
        "    area = cv2.contourArea(c)\n",
        "    if area < 25000:\n",
        "        x,y,w,h = cv2.boundingRect(c)\n",
        "        cv2.rectangle(image, (x, y), (x + w, y + h), (36,255,12), -1)\n",
        "        ROI = original[y:y+h, x:x+w]\n",
        "\n",
        "        # Visualization\n",
        "        #cv2_imshow(image)\n",
        "        #cv2_imshow(ROI)\n",
        "\n",
        "#cv2_imshow( opening)\n",
        "#cv2_imshow(close)\n",
        "#cv2_imshow(image)"
      ]
    },
    {
      "cell_type": "code",
      "execution_count": null,
      "metadata": {
        "id": "NMm7NTqjoBQ8",
        "cellView": "form"
      },
      "outputs": [],
      "source": [
        "#@title Default title text\n",
        "\n",
        "\n",
        "img = cv2.imread('/content/drive/MyDrive/Colab Notebooks/Resources/BangDiem4.jpg',0)\n",
        "\n",
        "# for adding border to an image\n",
        "img1= cv2.copyMakeBorder(img,50,50,50,50,cv2.BORDER_CONSTANT,value=[255,255])\n",
        "\n",
        "# Thresholding the image\n",
        "(thresh, th3) = cv2.threshold(img1, 255, 255,cv2.THRESH_BINARY|cv2.THRESH_OTSU)\n",
        "\n",
        "# to flip image pixel values\n",
        "th3 = 255-th3\n",
        "\n",
        "# initialize kernels for table boundaries detections\n",
        "if(th3.shape[0]<1000):\n",
        "    ver = np.array([[1],\n",
        "               [1],\n",
        "               [1],\n",
        "               [1],\n",
        "               [1],\n",
        "               [1],\n",
        "               [1]])\n",
        "    hor = np.array([[1,1,1,1,1,1]])\n",
        "\n",
        "else:\n",
        "    ver = np.array([[1],\n",
        "               [1],\n",
        "               [1],\n",
        "               [1],\n",
        "               [1],\n",
        "               [1],\n",
        "               [1],\n",
        "               [1],\n",
        "               [1],\n",
        "               [1],\n",
        "               [1],\n",
        "               [1],\n",
        "               [1],\n",
        "               [1],\n",
        "               [1],\n",
        "               [1],\n",
        "               [1],\n",
        "               [1],\n",
        "               [1]])\n",
        "    hor = np.array([[1,1,1,1,1,1,1,1,1,1,1,1,1,1,1]])\n",
        "\n",
        "\n",
        "\n",
        "\n",
        "# to detect vertical lines of table borders\n",
        "img_temp1 = cv2.erode(th3, ver, iterations=3)\n",
        "verticle_lines_img = cv2.dilate(img_temp1, ver, iterations=3)\n",
        "\n",
        "# to detect horizontal lines of table borders\n",
        "img_hor = cv2.erode(th3, hor, iterations=3)\n",
        "hor_lines_img = cv2.dilate(img_hor, hor, iterations=4)\n",
        "\n",
        "# adding horizontal and vertical lines\n",
        "hor_ver = cv2.add(hor_lines_img,verticle_lines_img)\n",
        "\n",
        "hor_ver = 255-hor_ver\n",
        "\n",
        "# subtracting table borders from image\n",
        "temp = cv2.subtract(th3,hor_ver)\n",
        "\n",
        "temp = 255-temp\n",
        "\n",
        "#Doing xor operation for erasing table boundaries\n",
        "tt = cv2.bitwise_xor(img1,temp)\n",
        "\n",
        "iii = cv2.bitwise_not(tt)\n",
        "\n",
        "tt1=iii.copy()\n",
        "\n",
        "#kernel initialization\n",
        "ver1 = np.array([[1,1],\n",
        "               [1,1],\n",
        "               [1,1],\n",
        "               [1,1],\n",
        "               [1,1],\n",
        "               [1,1],\n",
        "               [1,1],\n",
        "               [1,1],\n",
        "               [1,1]])\n",
        "hor1 = np.array([[1,1,1,1,1,1,1,1,1,1],\n",
        "               [1,1,1,1,1,1,1,1,1,1]])\n",
        "\n",
        "#morphological operation\n",
        "temp1 = cv2.erode(tt1, ver1, iterations=2)\n",
        "verticle_lines_img1 = cv2.dilate(temp1, ver1, iterations=3)\n",
        "\n",
        "temp12 = cv2.erode(tt1, hor1, iterations=1)\n",
        "hor_lines_img2 = cv2.dilate(temp12, hor1, iterations=3)\n",
        "\n",
        "# doing or operation for detecting only text part and removing rest all\n",
        "hor_ver = cv2.add(hor_lines_img2,verticle_lines_img1)\n",
        "dim1 = (hor_ver.shape[1],hor_ver.shape[0])\n",
        "dim = (hor_ver.shape[1]*2,hor_ver.shape[0]*2)\n",
        "\n",
        "# resizing image to its double size to increase the text size\n",
        "resized = cv2.resize(hor_ver, dim, interpolation = cv2.INTER_AREA)\n",
        "\n",
        "#bitwise not operation for fliping the pixel values so as to apply morphological operation such as dilation and erode\n",
        "want = cv2.bitwise_not(resized)\n",
        "\n",
        "if(want.shape[0]<1000):\n",
        "    kernel1 = np.array([[1,1,1]])\n",
        "    kernel2 = np.array([[1,1],\n",
        "                        [1,1]])\n",
        "    kernel3 = np.array([[1,0,1],[0,1,0],\n",
        "                       [1,0,1]])\n",
        "else:\n",
        "    kernel1 = np.array([[1,1,1,1,1,1]])\n",
        "    kernel2 = np.array([[1,1,1,1,1],\n",
        "                        [1,1,1,1,1],\n",
        "                        [1,1,1,1,1],\n",
        "                        [1,1,1,1,1]])\n",
        "\n",
        "tt1 = cv2.dilate(want,kernel1,iterations=2)\n",
        "\n",
        "# getting image back to its original size\n",
        "resized1 = cv2.resize(tt1, dim1, interpolation = cv2.INTER_AREA)\n",
        "\n",
        "# Find contours for image, which will detect all the boxes\n",
        "contours1, hierarchy1 = cv2.findContours(resized1, cv2.RETR_TREE, cv2.CHAIN_APPROX_SIMPLE)\n",
        "\n",
        "#function to sort contours by its x-axis (top to bottom)\n",
        "def sort_contours(cnts, method=\"left-to-right\"):\n",
        "    # initialize the reverse flag and sort index\n",
        "    reverse = False\n",
        "    i = 0\n",
        "\n",
        "    # handle if we need to sort in reverse\n",
        "    if method == \"right-to-left\" or method == \"bottom-to-top\":\n",
        "        reverse = True\n",
        "\n",
        "    # handle if we are sorting against the y-coordinate rather than\n",
        "    # the x-coordinate of the bounding box\n",
        "    if method == \"top-to-bottom\" or method == \"bottom-to-top\":\n",
        "        i = 1\n",
        "\n",
        "    # construct the list of bounding boxes and sort them from top to\n",
        "    # bottom\n",
        "    boundingBoxes = [cv2.boundingRect(c) for c in cnts]\n",
        "    (cnts, boundingBoxes) = zip(*sorted(zip(cnts, boundingBoxes),\n",
        "        key=lambda b:b[1][i], reverse=reverse))\n",
        "\n",
        "    # return the list of sorted contours and bounding boxes\n",
        "    return (cnts, boundingBoxes)\n",
        "\n",
        "\n",
        "#sorting contours by calling fuction\n",
        "(cnts, boundingBoxes) = sort_contours(contours1, method=\"top-to-bottom\")\n",
        "\n",
        "#storing value of all bouding box height\n",
        "heightlist=[]\n",
        "for i in range(len(boundingBoxes)):\n",
        "    heightlist.append(boundingBoxes[i][3])\n",
        "\n",
        "#sorting height values\n",
        "heightlist.sort()\n",
        "\n",
        "sportion = int(.5*len(heightlist))\n",
        "eportion = int(0.05*len(heightlist))\n",
        "\n",
        "#taking 50% to 95% values of heights and calculate their mean \n",
        "#this will neglect small bounding box which are basically noise \n",
        "try:\n",
        "    medianheight = statistics.mean(heightlist[-sportion:-eportion])\n",
        "except:\n",
        "    medianheight = statistics.mean(heightlist[-sportion:-2])\n",
        "\n",
        "#keeping bounding box which are having height more then 70% of the mean height and deleting all those value where \n",
        "# ratio of width to height is less then 0.9\n",
        "box =[]\n",
        "X = []\n",
        "imag = iii.copy()\n",
        "for i in range(len(cnts)):    \n",
        "    cnt = cnts[i]\n",
        "    x,y,w,h = cv2.boundingRect(cnt)\n",
        "    if(h>=.2*medianheight and w/h > 0.9):\n",
        "        image = cv2.rectangle(imag,(x+4,y-2),(x+w-5,y+h),(0,255,0),1)\n",
        "        box.append([x,y,w,h])\n",
        "        X.append(image[x:y , 0:100])\n",
        "        cv2_imshow(image[x:y , 0:100])\n",
        "    # to show image\n",
        "#cv2_imshow(image)"
      ]
    },
    {
      "cell_type": "code",
      "source": [
        "# đọc ảnh dưới dạng ảnh xám\n",
        "img = cv2.imread('/content/drive/MyDrive/Colab Notebooks/Resources/BangDiem4.jpg',0)\n",
        "\n",
        "# phân ngưỡng ảnh\n",
        "(thresh, img_bin) = cv2.threshold(img, 240, 255,cv2.THRESH_BINARY|cv2.THRESH_OTSU)\n",
        "\n",
        "# inverting the image\n",
        "img_bin = 255-img_bin \n",
        "cv2_imshow(img_bin)\n",
        "# Defining a kernel length\n",
        "kernel_length = np.array(img).shape[1]//80\n",
        "\n",
        "# A verticle kernel of (1 X kernel_length), phát hiện hàng chiều dọc của ảnh.\n",
        "verticle_kernel = cv2.getStructuringElement(cv2.MORPH_RECT, (1, kernel_length))# A horizontal kernel of (kernel_length X 1), which will help to detect all the horizontal line from the image.\n",
        "hori_kernel = cv2.getStructuringElement(cv2.MORPH_RECT, (kernel_length, 1))# A kernel of (3 X 3) ones.\n",
        "kernel = cv2.getStructuringElement(cv2.MORPH_RECT, (3, 3))\n",
        "\n",
        "# Morphological operation to detect vertical lines from an image\n",
        "img_temp1 = cv2.erode(img_bin, verticle_kernel, iterations=3)\n",
        "verticle_lines_img = cv2.dilate(img_temp1, verticle_kernel, iterations=3)\n",
        "#cv2_imshow(verticle_lines_img)\n",
        "\n",
        "# Morphological operation to detect horizontal lines from an image\n",
        "img_temp2 = cv2.erode(img_bin, hori_kernel, iterations=3)\n",
        "horizontal_lines_img = cv2.dilate(img_temp2, hori_kernel, iterations=3)\n",
        "#cv2_imshow(horizontal_lines_img)\n"
      ],
      "metadata": {
        "colab": {
          "base_uri": "https://localhost:8080/",
          "height": 1000
        },
        "id": "X5hbHnp0-qDI",
        "outputId": "01ae4eaa-ddd8-49b4-aea3-346963cdb9ac"
      },
      "execution_count": null,
      "outputs": [
        {
          "output_type": "display_data",
          "data": {
            "text/plain": [
              "<PIL.Image.Image image mode=L size=1715x2560 at 0x7F3CB2268A50>"
            ],
            "image/png": "[encoded data removed]"
          },
          "metadata": {}
        }
      ]
    },
    {
      "cell_type": "code",
      "source": [
        "diem = (7, 5, 6, 4, 9, 8, 9, 4, 6, 9, 6, 7, 5, 6, 8, 4, 3, 5, 5, 5, 6, 7, 4, 5, 7, 7, 6, 6, 4, 5, 5, 7, 7, 5, 6, 8, 6, 4, 2, 2, 1)\n",
        "print(len(diem))"
      ],
      "metadata": {
        "colab": {
          "base_uri": "https://localhost:8080/"
        },
        "id": "yDMTcBpt5uan",
        "outputId": "2d5cc01b-462a-425b-d9c6-9851265841f3"
      },
      "execution_count": null,
      "outputs": [
        {
          "output_type": "stream",
          "name": "stdout",
          "text": [
            "41\n"
          ]
        }
      ]
    },
    {
      "cell_type": "code",
      "source": [
        "# Weighting parameters, this will decide the quantity of an image to be added to make a new image.\n",
        "alpha = 0.5\n",
        "\n",
        "beta = 1.0 - alpha# This function helps to add two image with specific weight parameter to get a third image as summation of two image.\n",
        "\n",
        "img_final_bin = cv2.addWeighted(verticle_lines_img, alpha, horizontal_lines_img, beta, 0.0)\n",
        "\n",
        "img_final_bin = cv2.erode(~img_final_bin, kernel, iterations=2)\n",
        "\n",
        "(thresh, img_final_bin) = cv2.threshold(img_final_bin, 140,255, cv2.THRESH_BINARY | cv2.THRESH_OTSU)\n",
        "cv2_imshow(img_final_bin)"
      ],
      "metadata": {
        "colab": {
          "base_uri": "https://localhost:8080/",
          "height": 1000
        },
        "id": "sQ6lczJiBVzc",
        "outputId": "36fd8154-9ce7-477f-fd21-b5a2e5fd508e"
      },
      "execution_count": null,
      "outputs": [
        {
          "output_type": "display_data",
          "data": {
            "text/plain": [
              "<PIL.Image.Image image mode=L size=1715x2560 at 0x7F3CAFDC3810>"
            ],
            "image/png": "[encoded data removed]"
          },
          "metadata": {}
        }
      ]
    },
    {
      "cell_type": "code",
      "source": [
        "# Find contours for image, which will detect all the boxes\n",
        "contours, hierarchy = cv2.findContours(img_final_bin, cv2.RETR_TREE, cv2.CHAIN_APPROX_SIMPLE)\n",
        "contours.reverse() # đảo ngược mảng contours\n",
        "i = 0\n",
        "img_el = []\n",
        "#idx = 0\n",
        "for c in contours:\n",
        "    # Returns the location and width,height for every contour\n",
        "    x, y, w, h = cv2.boundingRect(c)\n",
        "    #only selecting boxes within certain width height range\n",
        "    if (w > 89 and w < 96 and h > 1 and h < 70):\n",
        "        #idx += 1\n",
        "        img_el.append(img[y:y+h, x:x+w])\n",
        "        cv2_imshow(img_el[i])\n",
        "        print(\"\\n\")\n",
        "        i += 1"
      ],
      "metadata": {
        "colab": {
          "base_uri": "https://localhost:8080/",
          "height": 1000
        },
        "id": "mFXlgKycNnBL",
        "outputId": "90598c10-9d2b-43c5-a6e7-19be19703694"
      },
      "execution_count": null,
      "outputs": [
        {
          "output_type": "display_data",
          "data": {
            "text/plain": [
              "<PIL.Image.Image image mode=L size=90x50 at 0x7F3CAEED4C90>"
            ],
            "image/png": "[encoded data removed]"
          },
          "metadata": {}
        },
        {
          "output_type": "stream",
          "name": "stdout",
          "text": [
            "\n",
            "\n"
          ]
        },
        {
          "output_type": "display_data",
          "data": {
            "text/plain": [
              "<PIL.Image.Image image mode=L size=90x50 at 0x7F3CAEED4810>"
            ],
            "image/png": "[encoded data removed]"
          },
          "metadata": {}
        },
        {
          "output_type": "stream",
          "name": "stdout",
          "text": [
            "\n",
            "\n"
          ]
        },
        {
          "output_type": "display_data",
          "data": {
            "text/plain": [
              "<PIL.Image.Image image mode=L size=90x49 at 0x7F3CAEEE9A90>"
            ],
            "image/png": "[encoded data removed]"
          },
          "metadata": {}
        },
        {
          "output_type": "stream",
          "name": "stdout",
          "text": [
            "\n",
            "\n"
          ]
        },
        {
          "output_type": "display_data",
          "data": {
            "text/plain": [
              "<PIL.Image.Image image mode=L size=91x50 at 0x7F3CAEEE9D10>"
            ],
            "image/png": "[encoded data removed]"
          },
          "metadata": {}
        },
        {
          "output_type": "stream",
          "name": "stdout",
          "text": [
            "\n",
            "\n"
          ]
        },
        {
          "output_type": "display_data",
          "data": {
            "text/plain": [
              "<PIL.Image.Image image mode=L size=90x50 at 0x7F3CAEEE9C90>"
            ],
            "image/png": "[encoded data removed]"
          },
          "metadata": {}
        },
        {
          "output_type": "stream",
          "name": "stdout",
          "text": [
            "\n",
            "\n"
          ]
        },
        {
          "output_type": "display_data",
          "data": {
            "text/plain": [
              "<PIL.Image.Image image mode=L size=90x49 at 0x7F3CAEEE95D0>"
            ],
            "image/png": "[encoded data removed]"
          },
          "metadata": {}
        },
        {
          "output_type": "stream",
          "name": "stdout",
          "text": [
            "\n",
            "\n"
          ]
        },
        {
          "output_type": "display_data",
          "data": {
            "text/plain": [
              "<PIL.Image.Image image mode=L size=91x49 at 0x7F3CAEEE9E90>"
            ],
            "image/png": "[encoded data removed]"
          },
          "metadata": {}
        },
        {
          "output_type": "stream",
          "name": "stdout",
          "text": [
            "\n",
            "\n"
          ]
        },
        {
          "output_type": "display_data",
          "data": {
            "text/plain": [
              "<PIL.Image.Image image mode=L size=91x50 at 0x7F3CAFDC3F10>"
            ],
            "image/png": "[encoded data removed]"
          },
          "metadata": {}
        },
        {
          "output_type": "stream",
          "name": "stdout",
          "text": [
            "\n",
            "\n"
          ]
        },
        {
          "output_type": "display_data",
          "data": {
            "text/plain": [
              "<PIL.Image.Image image mode=L size=91x50 at 0x7F3CAFDC30D0>"
            ],
            "image/png": "[encoded data removed]"
          },
          "metadata": {}
        },
        {
          "output_type": "stream",
          "name": "stdout",
          "text": [
            "\n",
            "\n"
          ]
        },
        {
          "output_type": "display_data",
          "data": {
            "text/plain": [
              "<PIL.Image.Image image mode=L size=91x51 at 0x7F3CAFDC3310>"
            ],
            "image/png": "[encoded data removed]"
          },
          "metadata": {}
        },
        {
          "output_type": "stream",
          "name": "stdout",
          "text": [
            "\n",
            "\n"
          ]
        },
        {
          "output_type": "display_data",
          "data": {
            "text/plain": [
              "<PIL.Image.Image image mode=L size=91x48 at 0x7F3CAFDC3390>"
            ],
            "image/png": "[encoded data removed]"
          },
          "metadata": {}
        },
        {
          "output_type": "stream",
          "name": "stdout",
          "text": [
            "\n",
            "\n"
          ]
        },
        {
          "output_type": "display_data",
          "data": {
            "text/plain": [
              "<PIL.Image.Image image mode=L size=92x50 at 0x7F3CAFDC3510>"
            ],
            "image/png": "[encoded data removed]"
          },
          "metadata": {}
        },
        {
          "output_type": "stream",
          "name": "stdout",
          "text": [
            "\n",
            "\n"
          ]
        },
        {
          "output_type": "display_data",
          "data": {
            "text/plain": [
              "<PIL.Image.Image image mode=L size=91x50 at 0x7F3CAFDC3750>"
            ],
            "image/png": "[encoded data removed]"
          },
          "metadata": {}
        },
        {
          "output_type": "stream",
          "name": "stdout",
          "text": [
            "\n",
            "\n"
          ]
        },
        {
          "output_type": "display_data",
          "data": {
            "text/plain": [
              "<PIL.Image.Image image mode=L size=91x51 at 0x7F3CAFDC33D0>"
            ],
            "image/png": "[encoded data removed]"
          },
          "metadata": {}
        },
        {
          "output_type": "stream",
          "name": "stdout",
          "text": [
            "\n",
            "\n"
          ]
        },
        {
          "output_type": "display_data",
          "data": {
            "text/plain": [
              "<PIL.Image.Image image mode=L size=91x50 at 0x7F3CAEEE9FD0>"
            ],
            "image/png": "[encoded data removed]"
          },
          "metadata": {}
        },
        {
          "output_type": "stream",
          "name": "stdout",
          "text": [
            "\n",
            "\n"
          ]
        },
        {
          "output_type": "display_data",
          "data": {
            "text/plain": [
              "<PIL.Image.Image image mode=L size=92x50 at 0x7F3CAEEE9CD0>"
            ],
            "image/png": "[encoded data removed]"
          },
          "metadata": {}
        },
        {
          "output_type": "stream",
          "name": "stdout",
          "text": [
            "\n",
            "\n"
          ]
        },
        {
          "output_type": "display_data",
          "data": {
            "text/plain": [
              "<PIL.Image.Image image mode=L size=91x49 at 0x7F3CAEEE9FD0>"
            ],
            "image/png": "[encoded data removed]"
          },
          "metadata": {}
        },
        {
          "output_type": "stream",
          "name": "stdout",
          "text": [
            "\n",
            "\n"
          ]
        },
        {
          "output_type": "display_data",
          "data": {
            "text/plain": [
              "<PIL.Image.Image image mode=L size=91x49 at 0x7F3CAEEE9CD0>"
            ],
            "image/png": "[encoded data removed]"
          },
          "metadata": {}
        },
        {
          "output_type": "stream",
          "name": "stdout",
          "text": [
            "\n",
            "\n"
          ]
        },
        {
          "output_type": "display_data",
          "data": {
            "text/plain": [
              "<PIL.Image.Image image mode=L size=90x49 at 0x7F3CAEEE9690>"
            ],
            "image/png": "[encoded data removed]"
          },
          "metadata": {}
        },
        {
          "output_type": "stream",
          "name": "stdout",
          "text": [
            "\n",
            "\n"
          ]
        },
        {
          "output_type": "display_data",
          "data": {
            "text/plain": [
              "<PIL.Image.Image image mode=L size=91x49 at 0x7F3CAEEE9E50>"
            ],
            "image/png": "[encoded data removed]"
          },
          "metadata": {}
        },
        {
          "output_type": "stream",
          "name": "stdout",
          "text": [
            "\n",
            "\n"
          ]
        },
        {
          "output_type": "display_data",
          "data": {
            "text/plain": [
              "<PIL.Image.Image image mode=L size=90x49 at 0x7F3CAEEE9690>"
            ],
            "image/png": "[encoded data removed]"
          },
          "metadata": {}
        },
        {
          "output_type": "stream",
          "name": "stdout",
          "text": [
            "\n",
            "\n"
          ]
        },
        {
          "output_type": "display_data",
          "data": {
            "text/plain": [
              "<PIL.Image.Image image mode=L size=91x49 at 0x7F3CAEEE9E10>"
            ],
            "image/png": "[encoded data removed]"
          },
          "metadata": {}
        },
        {
          "output_type": "stream",
          "name": "stdout",
          "text": [
            "\n",
            "\n"
          ]
        },
        {
          "output_type": "display_data",
          "data": {
            "text/plain": [
              "<PIL.Image.Image image mode=L size=91x56 at 0x7F3CAD687110>"
            ],
            "image/png": "[encoded data removed]"
          },
          "metadata": {}
        },
        {
          "output_type": "stream",
          "name": "stdout",
          "text": [
            "\n",
            "\n"
          ]
        },
        {
          "output_type": "display_data",
          "data": {
            "text/plain": [
              "<PIL.Image.Image image mode=L size=91x56 at 0x7F3CAD687150>"
            ],
            "image/png": "[encoded data removed]"
          },
          "metadata": {}
        },
        {
          "output_type": "stream",
          "name": "stdout",
          "text": [
            "\n",
            "\n"
          ]
        },
        {
          "output_type": "display_data",
          "data": {
            "text/plain": [
              "<PIL.Image.Image image mode=L size=90x56 at 0x7F3CAD687110>"
            ],
            "image/png": "[encoded data removed]"
          },
          "metadata": {}
        },
        {
          "output_type": "stream",
          "name": "stdout",
          "text": [
            "\n",
            "\n"
          ]
        },
        {
          "output_type": "display_data",
          "data": {
            "text/plain": [
              "<PIL.Image.Image image mode=L size=91x57 at 0x7F3CAD6871D0>"
            ],
            "image/png": "[encoded data removed]"
          },
          "metadata": {}
        },
        {
          "output_type": "stream",
          "name": "stdout",
          "text": [
            "\n",
            "\n"
          ]
        },
        {
          "output_type": "display_data",
          "data": {
            "text/plain": [
              "<PIL.Image.Image image mode=L size=91x57 at 0x7F3CAD687110>"
            ],
            "image/png": "[encoded data removed]"
          },
          "metadata": {}
        },
        {
          "output_type": "stream",
          "name": "stdout",
          "text": [
            "\n",
            "\n"
          ]
        },
        {
          "output_type": "display_data",
          "data": {
            "text/plain": [
              "<PIL.Image.Image image mode=L size=91x57 at 0x7F3CAD687090>"
            ],
            "image/png": "[encoded data removed]"
          },
          "metadata": {}
        },
        {
          "output_type": "stream",
          "name": "stdout",
          "text": [
            "\n",
            "\n"
          ]
        },
        {
          "output_type": "display_data",
          "data": {
            "text/plain": [
              "<PIL.Image.Image image mode=L size=91x58 at 0x7F3CAD687450>"
            ],
            "image/png": "[encoded data removed]"
          },
          "metadata": {}
        },
        {
          "output_type": "stream",
          "name": "stdout",
          "text": [
            "\n",
            "\n"
          ]
        },
        {
          "output_type": "display_data",
          "data": {
            "text/plain": [
              "<PIL.Image.Image image mode=L size=92x58 at 0x7F3CAD687090>"
            ],
            "image/png": "[encoded data removed]"
          },
          "metadata": {}
        },
        {
          "output_type": "stream",
          "name": "stdout",
          "text": [
            "\n",
            "\n"
          ]
        },
        {
          "output_type": "display_data",
          "data": {
            "text/plain": [
              "<PIL.Image.Image image mode=L size=91x57 at 0x7F3CAD687410>"
            ],
            "image/png": "[encoded data removed]"
          },
          "metadata": {}
        },
        {
          "output_type": "stream",
          "name": "stdout",
          "text": [
            "\n",
            "\n"
          ]
        },
        {
          "output_type": "display_data",
          "data": {
            "text/plain": [
              "<PIL.Image.Image image mode=L size=91x57 at 0x7F3CAD687390>"
            ],
            "image/png": "[encoded data removed]"
          },
          "metadata": {}
        },
        {
          "output_type": "stream",
          "name": "stdout",
          "text": [
            "\n",
            "\n"
          ]
        },
        {
          "output_type": "display_data",
          "data": {
            "text/plain": [
              "<PIL.Image.Image image mode=L size=91x57 at 0x7F3CAD687150>"
            ],
            "image/png": "[encoded data removed]"
          },
          "metadata": {}
        },
        {
          "output_type": "stream",
          "name": "stdout",
          "text": [
            "\n",
            "\n"
          ]
        },
        {
          "output_type": "display_data",
          "data": {
            "text/plain": [
              "<PIL.Image.Image image mode=L size=91x56 at 0x7F3CAD687810>"
            ],
            "image/png": "[encoded data removed]"
          },
          "metadata": {}
        },
        {
          "output_type": "stream",
          "name": "stdout",
          "text": [
            "\n",
            "\n"
          ]
        },
        {
          "output_type": "display_data",
          "data": {
            "text/plain": [
              "<PIL.Image.Image image mode=L size=91x56 at 0x7F3CAD687350>"
            ],
            "image/png": "[encoded data removed]"
          },
          "metadata": {}
        },
        {
          "output_type": "stream",
          "name": "stdout",
          "text": [
            "\n",
            "\n"
          ]
        },
        {
          "output_type": "display_data",
          "data": {
            "text/plain": [
              "<PIL.Image.Image image mode=L size=91x55 at 0x7F3CAD687710>"
            ],
            "image/png": "[encoded data removed]"
          },
          "metadata": {}
        },
        {
          "output_type": "stream",
          "name": "stdout",
          "text": [
            "\n",
            "\n"
          ]
        },
        {
          "output_type": "display_data",
          "data": {
            "text/plain": [
              "<PIL.Image.Image image mode=L size=91x55 at 0x7F3CAD6877D0>"
            ],
            "image/png": "[encoded data removed]"
          },
          "metadata": {}
        },
        {
          "output_type": "stream",
          "name": "stdout",
          "text": [
            "\n",
            "\n"
          ]
        },
        {
          "output_type": "display_data",
          "data": {
            "text/plain": [
              "<PIL.Image.Image image mode=L size=91x57 at 0x7F3CAD687890>"
            ],
            "image/png": "[encoded data removed]"
          },
          "metadata": {}
        },
        {
          "output_type": "stream",
          "name": "stdout",
          "text": [
            "\n",
            "\n"
          ]
        },
        {
          "output_type": "display_data",
          "data": {
            "text/plain": [
              "<PIL.Image.Image image mode=L size=90x58 at 0x7F3CAD687950>"
            ],
            "image/png": "[encoded data removed]"
          },
          "metadata": {}
        },
        {
          "output_type": "stream",
          "name": "stdout",
          "text": [
            "\n",
            "\n"
          ]
        },
        {
          "output_type": "display_data",
          "data": {
            "text/plain": [
              "<PIL.Image.Image image mode=L size=91x57 at 0x7F3CAD687A10>"
            ],
            "image/png": "[encoded data removed]"
          },
          "metadata": {}
        },
        {
          "output_type": "stream",
          "name": "stdout",
          "text": [
            "\n",
            "\n"
          ]
        },
        {
          "output_type": "display_data",
          "data": {
            "text/plain": [
              "<PIL.Image.Image image mode=L size=91x58 at 0x7F3CAD687AD0>"
            ],
            "image/png": "[encoded data removed]"
          },
          "metadata": {}
        },
        {
          "output_type": "stream",
          "name": "stdout",
          "text": [
            "\n",
            "\n"
          ]
        }
      ]
    },
    {
      "cell_type": "code",
      "source": [
        "# số lượng các ô đã cắt\n",
        "print(len(img_el))"
      ],
      "metadata": {
        "colab": {
          "base_uri": "https://localhost:8080/"
        },
        "id": "-_k-NVu6MJLm",
        "outputId": "a48f3a88-6ce8-4e51-c6d0-83cf6cdf1c25"
      },
      "execution_count": null,
      "outputs": [
        {
          "output_type": "stream",
          "name": "stdout",
          "text": [
            "41\n"
          ]
        }
      ]
    },
    {
      "cell_type": "code",
      "source": [
        "#@title Default title text\n",
        "print(new_img[3].shape[1])"
      ],
      "metadata": {
        "cellView": "form",
        "id": "51qplamwlROa"
      },
      "execution_count": null,
      "outputs": []
    },
    {
      "cell_type": "code",
      "source": [
        "#@title thử lọc ảnh theo index\n",
        "i = 3\n",
        "img_el = []\n",
        "for k in range(3, len(new_img)):\n",
        "  if (k == i):\n",
        "      cv2_imshow(new_img[k])\n",
        "      i += 9"
      ],
      "metadata": {
        "cellView": "form",
        "id": "fUeGsrcuS_WS"
      },
      "execution_count": null,
      "outputs": []
    },
    {
      "cell_type": "code",
      "source": [
        "#@title Default title text\n",
        "\n",
        "def imshow(img, label='default'):\n",
        "    cv2_imshow(img)\n",
        "    \n",
        "#get set of all y-coordinates to sort boxes row wise\n",
        "def getsety(boxes):\n",
        "    ally = []\n",
        "    for b in boxes:\n",
        "        ally.append(b[1])\n",
        "    ally = set(ally)\n",
        "    ally = sorted(ally)\n",
        "    return ally\n",
        "\n",
        "#sort boxes by y in certain range, because if image is tilted than same row boxes \n",
        "#could have different Ys but within certain range\n",
        "def sort_boxes(boxes, y, row_column):\n",
        "    l = []\n",
        "    for b in boxes:\n",
        "        if (b[2] > 10 and b[3] > 15 and b[3] < 50):\n",
        "            if b[1] >= y - 7 and b[1] <= y + 7:\n",
        "                l.append(b)\n",
        "\n",
        "    if l in row_column:\n",
        "        return row_column\n",
        "    else:\n",
        "        row_column.append(l)\n",
        "        return row_column\n",
        "\n",
        "#sort each row using X of each box to sort it column wise\n",
        "def sortrows(rc):\n",
        "    new_rc = []\n",
        "    for row in rc:\n",
        "        r_new = sorted(row, key = lambda cell: cell[0])\n",
        "        new_rc.append(r_new)\n",
        "    return new_rc\n",
        "\n",
        "row_column = []\n",
        "for i in getsety(boundingBoxes):\n",
        "    row_column = sort_boxes(boundingBoxes, i, row_column)\n",
        "row_column = [i for i in row_column if i != []]\n",
        "\n",
        "#final np array with sorted boxes from top left to bottom right\n",
        "row_column = sortrows(row_column)"
      ],
      "metadata": {
        "id": "a85QhwCXyurQ",
        "cellView": "form"
      },
      "execution_count": null,
      "outputs": []
    },
    {
      "cell_type": "code",
      "source": [
        "#@title Default title text\n",
        "img_el = []\n",
        "for k in new_img:\n",
        "  if (k.shape[1] <= 95 & k.shape[1] >= 90):\n",
        "      cv2_imshow(k)\n",
        "      img_el.append(k)"
      ],
      "metadata": {
        "id": "tjjWrNAi3h5q",
        "cellView": "form"
      },
      "execution_count": null,
      "outputs": []
    },
    {
      "cell_type": "code",
      "source": [
        "gray = [] \n",
        "thres = []\n",
        "img_bin = []\n",
        "img_blur = []\n",
        "for i in range(0, len(img_el)):\n",
        "    # Ta dung 7x7 kernel voi Sigma = 0, cho ta StD = 0.3*((ksize-1)*0.5 - 1) + 0.8\n",
        "    img_blur.append( cv2.GaussianBlur(img_el[i], (7, 7), 0))\n",
        "    cv2_imshow(cv2.GaussianBlur(img_el[i], (7, 7), 0))\n",
        "    thres.append(cv2.adaptiveThreshold(img_blur[i], 255,  cv2.ADAPTIVE_THRESH_GAUSSIAN_C, cv2.THRESH_BINARY, 191, 17))\n",
        "    img_bin.append(255 - thres[i])\n",
        "    cv2_imshow(img_bin[i])"
      ],
      "metadata": {
        "colab": {
          "base_uri": "https://localhost:8080/",
          "height": 1000
        },
        "id": "8RYE11CxEP8z",
        "outputId": "e5485239-4981-49bc-b035-4b84230df1d1"
      },
      "execution_count": null,
      "outputs": [
        {
          "output_type": "display_data",
          "data": {
            "text/plain": [
              "<PIL.Image.Image image mode=L size=90x50 at 0x7F3CAD687110>"
            ],
            "image/png": "[encoded data removed]"
          },
          "metadata": {}
        },
        {
          "output_type": "display_data",
          "data": {
            "text/plain": [
              "<PIL.Image.Image image mode=L size=90x50 at 0x7F3CAFD97610>"
            ],
            "image/png": "[encoded data removed]"
          },
          "metadata": {}
        },
        {
          "output_type": "display_data",
          "data": {
            "text/plain": [
              "<PIL.Image.Image image mode=L size=90x50 at 0x7F3CAEEE9D10>"
            ],
            "image/png": "[encoded data removed]"
          },
          "metadata": {}
        },
        {
          "output_type": "display_data",
          "data": {
            "text/plain": [
              "<PIL.Image.Image image mode=L size=90x50 at 0x7F3CAFD977D0>"
            ],
            "image/png": "[encoded data removed]"
          },
          "metadata": {}
        },
        {
          "output_type": "display_data",
          "data": {
            "text/plain": [
              "<PIL.Image.Image image mode=L size=90x49 at 0x7F3CAEEE9AD0>"
            ],
            "image/png": "[encoded data removed]"
          },
          "metadata": {}
        },
        {
          "output_type": "display_data",
          "data": {
            "text/plain": [
              "<PIL.Image.Image image mode=L size=90x49 at 0x7F3CAFD97050>"
            ],
            "image/png": "[encoded data removed]"
          },
          "metadata": {}
        },
        {
          "output_type": "display_data",
          "data": {
            "text/plain": [
              "<PIL.Image.Image image mode=L size=91x50 at 0x7F3CAEEE9AD0>"
            ],
            "image/png": "[encoded data removed]"
          },
          "metadata": {}
        },
        {
          "output_type": "display_data",
          "data": {
            "text/plain": [
              "<PIL.Image.Image image mode=L size=91x50 at 0x7F3CAEEE9250>"
            ],
            "image/png": "[encoded data removed]"
          },
          "metadata": {}
        },
        {
          "output_type": "display_data",
          "data": {
            "text/plain": [
              "<PIL.Image.Image image mode=L size=90x50 at 0x7F3CAFD977D0>"
            ],
            "image/png": "[encoded data removed]"
          },
          "metadata": {}
        },
        {
          "output_type": "display_data",
          "data": {
            "text/plain": [
              "<PIL.Image.Image image mode=L size=90x50 at 0x7F3CAD687E90>"
            ],
            "image/png": "[encoded data removed]"
          },
          "metadata": {}
        },
        {
          "output_type": "display_data",
          "data": {
            "text/plain": [
              "<PIL.Image.Image image mode=L size=90x49 at 0x7F3CAD687B90>"
            ],
            "image/png": "[encoded data removed]"
          },
          "metadata": {}
        },
        {
          "output_type": "display_data",
          "data": {
            "text/plain": [
              "<PIL.Image.Image image mode=L size=90x49 at 0x7F3CAD687F90>"
            ],
            "image/png": "[encoded data removed]"
          },
          "metadata": {}
        },
        {
          "output_type": "display_data",
          "data": {
            "text/plain": [
              "<PIL.Image.Image image mode=L size=91x49 at 0x7F3CAD687D10>"
            ],
            "image/png": "[encoded data removed]"
          },
          "metadata": {}
        },
        {
          "output_type": "display_data",
          "data": {
            "text/plain": [
              "<PIL.Image.Image image mode=L size=91x49 at 0x7F3CAFD97050>"
            ],
            "image/png": "[encoded data removed]"
          },
          "metadata": {}
        },
        {
          "output_type": "display_data",
          "data": {
            "text/plain": [
              "<PIL.Image.Image image mode=L size=91x50 at 0x7F3CAFD97610>"
            ],
            "image/png": "[encoded data removed]"
          },
          "metadata": {}
        },
        {
          "output_type": "display_data",
          "data": {
            "text/plain": [
              "<PIL.Image.Image image mode=L size=91x50 at 0x7F3CAEEE9F90>"
            ],
            "image/png": "[encoded data removed]"
          },
          "metadata": {}
        },
        {
          "output_type": "display_data",
          "data": {
            "text/plain": [
              "<PIL.Image.Image image mode=L size=91x50 at 0x7F3CAD687B90>"
            ],
            "image/png": "[encoded data removed]"
          },
          "metadata": {}
        },
        {
          "output_type": "display_data",
          "data": {
            "text/plain": [
              "<PIL.Image.Image image mode=L size=91x50 at 0x7F3CAD687B90>"
            ],
            "image/png": "[encoded data removed]"
          },
          "metadata": {}
        },
        {
          "output_type": "display_data",
          "data": {
            "text/plain": [
              "<PIL.Image.Image image mode=L size=91x51 at 0x7F3CAD687110>"
            ],
            "image/png": "[encoded data removed]"
          },
          "metadata": {}
        },
        {
          "output_type": "display_data",
          "data": {
            "text/plain": [
              "<PIL.Image.Image image mode=L size=91x51 at 0x7F3CAD687050>"
            ],
            "image/png": "[encoded data removed]"
          },
          "metadata": {}
        },
        {
          "output_type": "display_data",
          "data": {
            "text/plain": [
              "<PIL.Image.Image image mode=L size=91x48 at 0x7F3CAD687E90>"
            ],
            "image/png": "[encoded data removed]"
          },
          "metadata": {}
        },
        {
          "output_type": "display_data",
          "data": {
            "text/plain": [
              "<PIL.Image.Image image mode=L size=91x48 at 0x7F3CAD687650>"
            ],
            "image/png": "[encoded data removed]"
          },
          "metadata": {}
        },
        {
          "output_type": "display_data",
          "data": {
            "text/plain": [
              "<PIL.Image.Image image mode=L size=92x50 at 0x7F3CAD6871D0>"
            ],
            "image/png": "[encoded data removed]"
          },
          "metadata": {}
        },
        {
          "output_type": "display_data",
          "data": {
            "text/plain": [
              "<PIL.Image.Image image mode=L size=92x50 at 0x7F3CAD687210>"
            ],
            "image/png": "[encoded data removed]"
          },
          "metadata": {}
        },
        {
          "output_type": "display_data",
          "data": {
            "text/plain": [
              "<PIL.Image.Image image mode=L size=91x50 at 0x7F3CAD687D10>"
            ],
            "image/png": "[encoded data removed]"
          },
          "metadata": {}
        },
        {
          "output_type": "display_data",
          "data": {
            "text/plain": [
              "<PIL.Image.Image image mode=L size=91x50 at 0x7F3CAD687650>"
            ],
            "image/png": "[encoded data removed]"
          },
          "metadata": {}
        },
        {
          "output_type": "display_data",
          "data": {
            "text/plain": [
              "<PIL.Image.Image image mode=L size=91x51 at 0x7F3CAD6871D0>"
            ],
            "image/png": "[encoded data removed]"
          },
          "metadata": {}
        },
        {
          "output_type": "display_data",
          "data": {
            "text/plain": [
              "<PIL.Image.Image image mode=L size=91x51 at 0x7F3CAD687210>"
            ],
            "image/png": "[encoded data removed]"
          },
          "metadata": {}
        },
        {
          "output_type": "display_data",
          "data": {
            "text/plain": [
              "<PIL.Image.Image image mode=L size=91x50 at 0x7F3CAD687D10>"
            ],
            "image/png": "[encoded data removed]"
          },
          "metadata": {}
        },
        {
          "output_type": "display_data",
          "data": {
            "text/plain": [
              "<PIL.Image.Image image mode=L size=91x50 at 0x7F3CAEEE9AD0>"
            ],
            "image/png": "[encoded data removed]"
          },
          "metadata": {}
        },
        {
          "output_type": "display_data",
          "data": {
            "text/plain": [
              "<PIL.Image.Image image mode=L size=92x50 at 0x7F3CAD687F90>"
            ],
            "image/png": "[encoded data removed]"
          },
          "metadata": {}
        },
        {
          "output_type": "display_data",
          "data": {
            "text/plain": [
              "<PIL.Image.Image image mode=L size=92x50 at 0x7F3CAD6871D0>"
            ],
            "image/png": "[encoded data removed]"
          },
          "metadata": {}
        },
        {
          "output_type": "display_data",
          "data": {
            "text/plain": [
              "<PIL.Image.Image image mode=L size=91x49 at 0x7F3CAD6871D0>"
            ],
            "image/png": "[encoded data removed]"
          },
          "metadata": {}
        },
        {
          "output_type": "display_data",
          "data": {
            "text/plain": [
              "<PIL.Image.Image image mode=L size=91x49 at 0x7F3CAD687D10>"
            ],
            "image/png": "[encoded data removed]"
          },
          "metadata": {}
        },
        {
          "output_type": "display_data",
          "data": {
            "text/plain": [
              "<PIL.Image.Image image mode=L size=91x49 at 0x7F3CAD687B90>"
            ],
            "image/png": "[encoded data removed]"
          },
          "metadata": {}
        },
        {
          "output_type": "display_data",
          "data": {
            "text/plain": [
              "<PIL.Image.Image image mode=L size=91x49 at 0x7F3CAD687650>"
            ],
            "image/png": "[encoded data removed]"
          },
          "metadata": {}
        },
        {
          "output_type": "display_data",
          "data": {
            "text/plain": [
              "<PIL.Image.Image image mode=L size=90x49 at 0x7F3CAEEE9250>"
            ],
            "image/png": "[encoded data removed]"
          },
          "metadata": {}
        },
        {
          "output_type": "display_data",
          "data": {
            "text/plain": [
              "<PIL.Image.Image image mode=L size=90x49 at 0x7F3CAEEE9AD0>"
            ],
            "image/png": "[encoded data removed]"
          },
          "metadata": {}
        },
        {
          "output_type": "display_data",
          "data": {
            "text/plain": [
              "<PIL.Image.Image image mode=L size=91x49 at 0x7F3CAEEE9D10>"
            ],
            "image/png": "[encoded data removed]"
          },
          "metadata": {}
        },
        {
          "output_type": "display_data",
          "data": {
            "text/plain": [
              "<PIL.Image.Image image mode=L size=91x49 at 0x7F3CAD687D10>"
            ],
            "image/png": "[encoded data removed]"
          },
          "metadata": {}
        },
        {
          "output_type": "display_data",
          "data": {
            "text/plain": [
              "<PIL.Image.Image image mode=L size=90x49 at 0x7F3CAD687650>"
            ],
            "image/png": "[encoded data removed]"
          },
          "metadata": {}
        },
        {
          "output_type": "display_data",
          "data": {
            "text/plain": [
              "<PIL.Image.Image image mode=L size=90x49 at 0x7F3CAD687D10>"
            ],
            "image/png": "[encoded data removed]"
          },
          "metadata": {}
        },
        {
          "output_type": "display_data",
          "data": {
            "text/plain": [
              "<PIL.Image.Image image mode=L size=91x49 at 0x7F3CAD687650>"
            ],
            "image/png": "[encoded data removed]"
          },
          "metadata": {}
        },
        {
          "output_type": "display_data",
          "data": {
            "text/plain": [
              "<PIL.Image.Image image mode=L size=91x49 at 0x7F3CAEEE9F90>"
            ],
            "image/png": "[encoded data removed]"
          },
          "metadata": {}
        },
        {
          "output_type": "display_data",
          "data": {
            "text/plain": [
              "<PIL.Image.Image image mode=L size=91x56 at 0x7F3CAEEE9250>"
            ],
            "image/png": "[encoded data removed]"
          },
          "metadata": {}
        },
        {
          "output_type": "display_data",
          "data": {
            "text/plain": [
              "<PIL.Image.Image image mode=L size=91x56 at 0x7F3CAD687F90>"
            ],
            "image/png": "[encoded data removed]"
          },
          "metadata": {}
        },
        {
          "output_type": "display_data",
          "data": {
            "text/plain": [
              "<PIL.Image.Image image mode=L size=91x56 at 0x7F3CAEEE9AD0>"
            ],
            "image/png": "[encoded data removed]"
          },
          "metadata": {}
        },
        {
          "output_type": "display_data",
          "data": {
            "text/plain": [
              "<PIL.Image.Image image mode=L size=91x56 at 0x7F3CAD687E90>"
            ],
            "image/png": "[encoded data removed]"
          },
          "metadata": {}
        },
        {
          "output_type": "display_data",
          "data": {
            "text/plain": [
              "<PIL.Image.Image image mode=L size=90x56 at 0x7F3CAD687050>"
            ],
            "image/png": "[encoded data removed]"
          },
          "metadata": {}
        },
        {
          "output_type": "display_data",
          "data": {
            "text/plain": [
              "<PIL.Image.Image image mode=L size=90x56 at 0x7F3CAFD97E10>"
            ],
            "image/png": "[encoded data removed]"
          },
          "metadata": {}
        },
        {
          "output_type": "display_data",
          "data": {
            "text/plain": [
              "<PIL.Image.Image image mode=L size=91x57 at 0x7F3CAD687E90>"
            ],
            "image/png": "[encoded data removed]"
          },
          "metadata": {}
        },
        {
          "output_type": "display_data",
          "data": {
            "text/plain": [
              "<PIL.Image.Image image mode=L size=91x57 at 0x7F3CAD687650>"
            ],
            "image/png": "[encoded data removed]"
          },
          "metadata": {}
        },
        {
          "output_type": "display_data",
          "data": {
            "text/plain": [
              "<PIL.Image.Image image mode=L size=91x57 at 0x7F3CAFD977D0>"
            ],
            "image/png": "[encoded data removed]"
          },
          "metadata": {}
        },
        {
          "output_type": "display_data",
          "data": {
            "text/plain": [
              "<PIL.Image.Image image mode=L size=91x57 at 0x7F3CAFD97050>"
            ],
            "image/png": "[encoded data removed]"
          },
          "metadata": {}
        },
        {
          "output_type": "display_data",
          "data": {
            "text/plain": [
              "<PIL.Image.Image image mode=L size=91x57 at 0x7F3CAEEE9F90>"
            ],
            "image/png": "[encoded data removed]"
          },
          "metadata": {}
        },
        {
          "output_type": "display_data",
          "data": {
            "text/plain": [
              "<PIL.Image.Image image mode=L size=91x57 at 0x7F3CAEEE9D10>"
            ],
            "image/png": "[encoded data removed]"
          },
          "metadata": {}
        },
        {
          "output_type": "display_data",
          "data": {
            "text/plain": [
              "<PIL.Image.Image image mode=L size=91x58 at 0x7F3CAEEE9290>"
            ],
            "image/png": "[encoded data removed]"
          },
          "metadata": {}
        },
        {
          "output_type": "display_data",
          "data": {
            "text/plain": [
              "<PIL.Image.Image image mode=L size=91x58 at 0x7F3CAD687B90>"
            ],
            "image/png": "[encoded data removed]"
          },
          "metadata": {}
        },
        {
          "output_type": "display_data",
          "data": {
            "text/plain": [
              "<PIL.Image.Image image mode=L size=92x58 at 0x7F3CAD687110>"
            ],
            "image/png": "[encoded data removed]"
          },
          "metadata": {}
        },
        {
          "output_type": "display_data",
          "data": {
            "text/plain": [
              "<PIL.Image.Image image mode=L size=92x58 at 0x7F3CAD687F90>"
            ],
            "image/png": "[encoded data removed]"
          },
          "metadata": {}
        },
        {
          "output_type": "display_data",
          "data": {
            "text/plain": [
              "<PIL.Image.Image image mode=L size=91x57 at 0x7F3CAD687210>"
            ],
            "image/png": "[encoded data removed]"
          },
          "metadata": {}
        },
        {
          "output_type": "display_data",
          "data": {
            "text/plain": [
              "<PIL.Image.Image image mode=L size=91x57 at 0x7F3CAD687B90>"
            ],
            "image/png": "[encoded data removed]"
          },
          "metadata": {}
        },
        {
          "output_type": "display_data",
          "data": {
            "text/plain": [
              "<PIL.Image.Image image mode=L size=91x57 at 0x7F3CAD687110>"
            ],
            "image/png": "[encoded data removed]"
          },
          "metadata": {}
        },
        {
          "output_type": "display_data",
          "data": {
            "text/plain": [
              "<PIL.Image.Image image mode=L size=91x57 at 0x7F3CAD687650>"
            ],
            "image/png": "[encoded data removed]"
          },
          "metadata": {}
        },
        {
          "output_type": "display_data",
          "data": {
            "text/plain": [
              "<PIL.Image.Image image mode=L size=91x57 at 0x7F3CAD687050>"
            ],
            "image/png": "[encoded data removed]"
          },
          "metadata": {}
        },
        {
          "output_type": "display_data",
          "data": {
            "text/plain": [
              "<PIL.Image.Image image mode=L size=91x57 at 0x7F3CAEEE9F90>"
            ],
            "image/png": "[encoded data removed]"
          },
          "metadata": {}
        },
        {
          "output_type": "display_data",
          "data": {
            "text/plain": [
              "<PIL.Image.Image image mode=L size=91x56 at 0x7F3CAEEE9250>"
            ],
            "image/png": "[encoded data removed]"
          },
          "metadata": {}
        },
        {
          "output_type": "display_data",
          "data": {
            "text/plain": [
              "<PIL.Image.Image image mode=L size=91x56 at 0x7F3CAEEE9F90>"
            ],
            "image/png": "[encoded data removed]"
          },
          "metadata": {}
        },
        {
          "output_type": "display_data",
          "data": {
            "text/plain": [
              "<PIL.Image.Image image mode=L size=91x56 at 0x7F3CAFD97E10>"
            ],
            "image/png": "[encoded data removed]"
          },
          "metadata": {}
        },
        {
          "output_type": "display_data",
          "data": {
            "text/plain": [
              "<PIL.Image.Image image mode=L size=91x56 at 0x7F3CAEEE9AD0>"
            ],
            "image/png": "[encoded data removed]"
          },
          "metadata": {}
        },
        {
          "output_type": "display_data",
          "data": {
            "text/plain": [
              "<PIL.Image.Image image mode=L size=91x55 at 0x7F3CAFD97610>"
            ],
            "image/png": "[encoded data removed]"
          },
          "metadata": {}
        },
        {
          "output_type": "display_data",
          "data": {
            "text/plain": [
              "<PIL.Image.Image image mode=L size=91x55 at 0x7F3CAD687E90>"
            ],
            "image/png": "[encoded data removed]"
          },
          "metadata": {}
        },
        {
          "output_type": "display_data",
          "data": {
            "text/plain": [
              "<PIL.Image.Image image mode=L size=91x55 at 0x7F3CAFD977D0>"
            ],
            "image/png": "[encoded data removed]"
          },
          "metadata": {}
        },
        {
          "output_type": "display_data",
          "data": {
            "text/plain": [
              "<PIL.Image.Image image mode=L size=91x55 at 0x7F3CAFD97050>"
            ],
            "image/png": "[encoded data removed]"
          },
          "metadata": {}
        },
        {
          "output_type": "display_data",
          "data": {
            "text/plain": [
              "<PIL.Image.Image image mode=L size=91x57 at 0x7F3CAD687F90>"
            ],
            "image/png": "[encoded data removed]"
          },
          "metadata": {}
        },
        {
          "output_type": "display_data",
          "data": {
            "text/plain": [
              "<PIL.Image.Image image mode=L size=91x57 at 0x7F3CAEEE9250>"
            ],
            "image/png": "[encoded data removed]"
          },
          "metadata": {}
        },
        {
          "output_type": "display_data",
          "data": {
            "text/plain": [
              "<PIL.Image.Image image mode=L size=90x58 at 0x7F3CAD687D10>"
            ],
            "image/png": "[encoded data removed]"
          },
          "metadata": {}
        },
        {
          "output_type": "display_data",
          "data": {
            "text/plain": [
              "<PIL.Image.Image image mode=L size=90x58 at 0x7F3CAD687D10>"
            ],
            "image/png": "[encoded data removed]"
          },
          "metadata": {}
        },
        {
          "output_type": "display_data",
          "data": {
            "text/plain": [
              "<PIL.Image.Image image mode=L size=91x57 at 0x7F3CAD687D10>"
            ],
            "image/png": "[encoded data removed]"
          },
          "metadata": {}
        },
        {
          "output_type": "display_data",
          "data": {
            "text/plain": [
              "<PIL.Image.Image image mode=L size=91x57 at 0x7F3CAD687D10>"
            ],
            "image/png": "[encoded data removed]"
          },
          "metadata": {}
        },
        {
          "output_type": "display_data",
          "data": {
            "text/plain": [
              "<PIL.Image.Image image mode=L size=91x58 at 0x7F3CAD687F90>"
            ],
            "image/png": "[encoded data removed]"
          },
          "metadata": {}
        },
        {
          "output_type": "display_data",
          "data": {
            "text/plain": [
              "<PIL.Image.Image image mode=L size=91x58 at 0x7F3CAFD977D0>"
            ],
            "image/png": "[encoded data removed]"
          },
          "metadata": {}
        }
      ]
    },
    {
      "cell_type": "code",
      "source": [
        "# biến đổi kích thước ảnh\n",
        "re = []\n",
        "for i in range(0,41):\n",
        "    re1 = cv2.resize(img_bin[i],(28, 28), interpolation= cv2.INTER_LINEAR)\n",
        "    re.append(re1)\n",
        "    cv2_imshow(img_bin[i])\n",
        "    cv2_imshow(re[i])"
      ],
      "metadata": {
        "colab": {
          "base_uri": "https://localhost:8080/",
          "height": 1000
        },
        "id": "3xUbslhtJ5J7",
        "outputId": "a1e7c717-e7aa-4665-befb-3fb9cfa9d418"
      },
      "execution_count": null,
      "outputs": [
        {
          "output_type": "display_data",
          "data": {
            "text/plain": [
              "<PIL.Image.Image image mode=L size=90x50 at 0x7F3CAD687F90>"
            ],
            "image/png": "[encoded data removed]"
          },
          "metadata": {}
        },
        {
          "output_type": "display_data",
          "data": {
            "text/plain": [
              "<PIL.Image.Image image mode=L size=28x28 at 0x7F3CAD687A50>"
            ],
            "image/png": "[encoded data removed]"
          },
          "metadata": {}
        },
        {
          "output_type": "display_data",
          "data": {
            "text/plain": [
              "<PIL.Image.Image image mode=L size=90x50 at 0x7F3CAD6877D0>"
            ],
            "image/png": "[encoded data removed]"
          },
          "metadata": {}
        },
        {
          "output_type": "display_data",
          "data": {
            "text/plain": [
              "<PIL.Image.Image image mode=L size=28x28 at 0x7F3CAEEE9410>"
            ],
            "image/png": "[encoded data removed]"
          },
          "metadata": {}
        },
        {
          "output_type": "display_data",
          "data": {
            "text/plain": [
              "<PIL.Image.Image image mode=L size=90x49 at 0x7F3CAD687F90>"
            ],
            "image/png": "[encoded data removed]"
          },
          "metadata": {}
        },
        {
          "output_type": "display_data",
          "data": {
            "text/plain": [
              "<PIL.Image.Image image mode=L size=28x28 at 0x7F3CAEEE9CD0>"
            ],
            "image/png": "[encoded data removed]"
          },
          "metadata": {}
        },
        {
          "output_type": "display_data",
          "data": {
            "text/plain": [
              "<PIL.Image.Image image mode=L size=91x50 at 0x7F3CAD687A50>"
            ],
            "image/png": "[encoded data removed]"
          },
          "metadata": {}
        },
        {
          "output_type": "display_data",
          "data": {
            "text/plain": [
              "<PIL.Image.Image image mode=L size=28x28 at 0x7F3CAEEE9110>"
            ],
            "image/png": "[encoded data removed]"
          },
          "metadata": {}
        },
        {
          "output_type": "display_data",
          "data": {
            "text/plain": [
              "<PIL.Image.Image image mode=L size=90x50 at 0x7F3CAEEE9110>"
            ],
            "image/png": "[encoded data removed]"
          },
          "metadata": {}
        },
        {
          "output_type": "display_data",
          "data": {
            "text/plain": [
              "<PIL.Image.Image image mode=L size=28x28 at 0x7F3CAEEE9AD0>"
            ],
            "image/png": "[encoded data removed]"
          },
          "metadata": {}
        },
        {
          "output_type": "display_data",
          "data": {
            "text/plain": [
              "<PIL.Image.Image image mode=L size=90x49 at 0x7F3CAD6877D0>"
            ],
            "image/png": "[encoded data removed]"
          },
          "metadata": {}
        },
        {
          "output_type": "display_data",
          "data": {
            "text/plain": [
              "<PIL.Image.Image image mode=L size=28x28 at 0x7F3CAEEE9AD0>"
            ],
            "image/png": "[encoded data removed]"
          },
          "metadata": {}
        },
        {
          "output_type": "display_data",
          "data": {
            "text/plain": [
              "<PIL.Image.Image image mode=L size=91x49 at 0x7F3CAD687E10>"
            ],
            "image/png": "[encoded data removed]"
          },
          "metadata": {}
        },
        {
          "output_type": "display_data",
          "data": {
            "text/plain": [
              "<PIL.Image.Image image mode=L size=28x28 at 0x7F3CAEEE9ED0>"
            ],
            "image/png": "[encoded data removed]"
          },
          "metadata": {}
        },
        {
          "output_type": "display_data",
          "data": {
            "text/plain": [
              "<PIL.Image.Image image mode=L size=91x50 at 0x7F3CAD6872D0>"
            ],
            "image/png": "[encoded data removed]"
          },
          "metadata": {}
        },
        {
          "output_type": "display_data",
          "data": {
            "text/plain": [
              "<PIL.Image.Image image mode=L size=28x28 at 0x7F3CAEEE9AD0>"
            ],
            "image/png": "[encoded data removed]"
          },
          "metadata": {}
        },
        {
          "output_type": "display_data",
          "data": {
            "text/plain": [
              "<PIL.Image.Image image mode=L size=91x50 at 0x7F3CAD687410>"
            ],
            "image/png": "[encoded data removed]"
          },
          "metadata": {}
        },
        {
          "output_type": "display_data",
          "data": {
            "text/plain": [
              "<PIL.Image.Image image mode=L size=28x28 at 0x7F3CAEEE91D0>"
            ],
            "image/png": "[encoded data removed]"
          },
          "metadata": {}
        },
        {
          "output_type": "display_data",
          "data": {
            "text/plain": [
              "<PIL.Image.Image image mode=L size=91x51 at 0x7F3CAD687110>"
            ],
            "image/png": "[encoded data removed]"
          },
          "metadata": {}
        },
        {
          "output_type": "display_data",
          "data": {
            "text/plain": [
              "<PIL.Image.Image image mode=L size=28x28 at 0x7F3CAEEE9410>"
            ],
            "image/png": "[encoded data removed]"
          },
          "metadata": {}
        },
        {
          "output_type": "display_data",
          "data": {
            "text/plain": [
              "<PIL.Image.Image image mode=L size=91x48 at 0x7F3CAD6872D0>"
            ],
            "image/png": "[encoded data removed]"
          },
          "metadata": {}
        },
        {
          "output_type": "display_data",
          "data": {
            "text/plain": [
              "<PIL.Image.Image image mode=L size=28x28 at 0x7F3CAEEE9850>"
            ],
            "image/png": "[encoded data removed]"
          },
          "metadata": {}
        },
        {
          "output_type": "display_data",
          "data": {
            "text/plain": [
              "<PIL.Image.Image image mode=L size=92x50 at 0x7F3CAD687410>"
            ],
            "image/png": "[encoded data removed]"
          },
          "metadata": {}
        },
        {
          "output_type": "display_data",
          "data": {
            "text/plain": [
              "<PIL.Image.Image image mode=L size=28x28 at 0x7F3CAEEE9810>"
            ],
            "image/png": "[encoded data removed]"
          },
          "metadata": {}
        },
        {
          "output_type": "display_data",
          "data": {
            "text/plain": [
              "<PIL.Image.Image image mode=L size=91x50 at 0x7F3CAD687F90>"
            ],
            "image/png": "[encoded data removed]"
          },
          "metadata": {}
        },
        {
          "output_type": "display_data",
          "data": {
            "text/plain": [
              "<PIL.Image.Image image mode=L size=28x28 at 0x7F3CAEEE9D10>"
            ],
            "image/png": "[encoded data removed]"
          },
          "metadata": {}
        },
        {
          "output_type": "display_data",
          "data": {
            "text/plain": [
              "<PIL.Image.Image image mode=L size=91x51 at 0x7F3CAEEE9D10>"
            ],
            "image/png": "[encoded data removed]"
          },
          "metadata": {}
        },
        {
          "output_type": "display_data",
          "data": {
            "text/plain": [
              "<PIL.Image.Image image mode=L size=28x28 at 0x7F3CAEEE9150>"
            ],
            "image/png": "[encoded data removed]"
          },
          "metadata": {}
        },
        {
          "output_type": "display_data",
          "data": {
            "text/plain": [
              "<PIL.Image.Image image mode=L size=91x50 at 0x7F3CAD687F90>"
            ],
            "image/png": "[encoded data removed]"
          },
          "metadata": {}
        },
        {
          "output_type": "display_data",
          "data": {
            "text/plain": [
              "<PIL.Image.Image image mode=L size=28x28 at 0x7F3CAEEE91D0>"
            ],
            "image/png": "[encoded data removed]"
          },
          "metadata": {}
        },
        {
          "output_type": "display_data",
          "data": {
            "text/plain": [
              "<PIL.Image.Image image mode=L size=92x50 at 0x7F3CAEEE9410>"
            ],
            "image/png": "[encoded data removed]"
          },
          "metadata": {}
        },
        {
          "output_type": "display_data",
          "data": {
            "text/plain": [
              "<PIL.Image.Image image mode=L size=28x28 at 0x7F3CAEEE91D0>"
            ],
            "image/png": "[encoded data removed]"
          },
          "metadata": {}
        },
        {
          "output_type": "display_data",
          "data": {
            "text/plain": [
              "<PIL.Image.Image image mode=L size=91x49 at 0x7F3CAEEE9410>"
            ],
            "image/png": "[encoded data removed]"
          },
          "metadata": {}
        },
        {
          "output_type": "display_data",
          "data": {
            "text/plain": [
              "<PIL.Image.Image image mode=L size=28x28 at 0x7F3CAEEE91D0>"
            ],
            "image/png": "[encoded data removed]"
          },
          "metadata": {}
        },
        {
          "output_type": "display_data",
          "data": {
            "text/plain": [
              "<PIL.Image.Image image mode=L size=91x49 at 0x7F3CAEEE9410>"
            ],
            "image/png": "[encoded data removed]"
          },
          "metadata": {}
        },
        {
          "output_type": "display_data",
          "data": {
            "text/plain": [
              "<PIL.Image.Image image mode=L size=28x28 at 0x7F3CAEEE91D0>"
            ],
            "image/png": "[encoded data removed]"
          },
          "metadata": {}
        },
        {
          "output_type": "display_data",
          "data": {
            "text/plain": [
              "<PIL.Image.Image image mode=L size=90x49 at 0x7F3CAEEE9410>"
            ],
            "image/png": "[encoded data removed]"
          },
          "metadata": {}
        },
        {
          "output_type": "display_data",
          "data": {
            "text/plain": [
              "<PIL.Image.Image image mode=L size=28x28 at 0x7F3CAEEE91D0>"
            ],
            "image/png": "[encoded data removed]"
          },
          "metadata": {}
        },
        {
          "output_type": "display_data",
          "data": {
            "text/plain": [
              "<PIL.Image.Image image mode=L size=91x49 at 0x7F3CAEEE9410>"
            ],
            "image/png": "[encoded data removed]"
          },
          "metadata": {}
        },
        {
          "output_type": "display_data",
          "data": {
            "text/plain": [
              "<PIL.Image.Image image mode=L size=28x28 at 0x7F3CAEEE91D0>"
            ],
            "image/png": "[encoded data removed]"
          },
          "metadata": {}
        },
        {
          "output_type": "display_data",
          "data": {
            "text/plain": [
              "<PIL.Image.Image image mode=L size=90x49 at 0x7F3CAEEE9410>"
            ],
            "image/png": "[encoded data removed]"
          },
          "metadata": {}
        },
        {
          "output_type": "display_data",
          "data": {
            "text/plain": [
              "<PIL.Image.Image image mode=L size=28x28 at 0x7F3CAEEE91D0>"
            ],
            "image/png": "[encoded data removed]"
          },
          "metadata": {}
        },
        {
          "output_type": "display_data",
          "data": {
            "text/plain": [
              "<PIL.Image.Image image mode=L size=91x49 at 0x7F3CAEEE9410>"
            ],
            "image/png": "[encoded data removed]"
          },
          "metadata": {}
        },
        {
          "output_type": "display_data",
          "data": {
            "text/plain": [
              "<PIL.Image.Image image mode=L size=28x28 at 0x7F3CAEEE91D0>"
            ],
            "image/png": "[encoded data removed]"
          },
          "metadata": {}
        },
        {
          "output_type": "display_data",
          "data": {
            "text/plain": [
              "<PIL.Image.Image image mode=L size=91x56 at 0x7F3CAEEE9410>"
            ],
            "image/png": "[encoded data removed]"
          },
          "metadata": {}
        },
        {
          "output_type": "display_data",
          "data": {
            "text/plain": [
              "<PIL.Image.Image image mode=L size=28x28 at 0x7F3CAEEE91D0>"
            ],
            "image/png": "[encoded data removed]"
          },
          "metadata": {}
        },
        {
          "output_type": "display_data",
          "data": {
            "text/plain": [
              "<PIL.Image.Image image mode=L size=91x56 at 0x7F3CAEEE9410>"
            ],
            "image/png": "[encoded data removed]"
          },
          "metadata": {}
        },
        {
          "output_type": "display_data",
          "data": {
            "text/plain": [
              "<PIL.Image.Image image mode=L size=28x28 at 0x7F3CAEEE91D0>"
            ],
            "image/png": "[encoded data removed]"
          },
          "metadata": {}
        },
        {
          "output_type": "display_data",
          "data": {
            "text/plain": [
              "<PIL.Image.Image image mode=L size=90x56 at 0x7F3CAEEE9410>"
            ],
            "image/png": "[encoded data removed]"
          },
          "metadata": {}
        },
        {
          "output_type": "display_data",
          "data": {
            "text/plain": [
              "<PIL.Image.Image image mode=L size=28x28 at 0x7F3CAEEE91D0>"
            ],
            "image/png": "[encoded data removed]"
          },
          "metadata": {}
        },
        {
          "output_type": "display_data",
          "data": {
            "text/plain": [
              "<PIL.Image.Image image mode=L size=91x57 at 0x7F3CAEEE9410>"
            ],
            "image/png": "[encoded data removed]"
          },
          "metadata": {}
        },
        {
          "output_type": "display_data",
          "data": {
            "text/plain": [
              "<PIL.Image.Image image mode=L size=28x28 at 0x7F3CAEEE91D0>"
            ],
            "image/png": "[encoded data removed]"
          },
          "metadata": {}
        },
        {
          "output_type": "display_data",
          "data": {
            "text/plain": [
              "<PIL.Image.Image image mode=L size=91x57 at 0x7F3CAEEE9410>"
            ],
            "image/png": "[encoded data removed]"
          },
          "metadata": {}
        },
        {
          "output_type": "display_data",
          "data": {
            "text/plain": [
              "<PIL.Image.Image image mode=L size=28x28 at 0x7F3CAEEE91D0>"
            ],
            "image/png": "[encoded data removed]"
          },
          "metadata": {}
        },
        {
          "output_type": "display_data",
          "data": {
            "text/plain": [
              "<PIL.Image.Image image mode=L size=91x57 at 0x7F3CAEEE9410>"
            ],
            "image/png": "[encoded data removed]"
          },
          "metadata": {}
        },
        {
          "output_type": "display_data",
          "data": {
            "text/plain": [
              "<PIL.Image.Image image mode=L size=28x28 at 0x7F3CAEEE91D0>"
            ],
            "image/png": "[encoded data removed]"
          },
          "metadata": {}
        },
        {
          "output_type": "display_data",
          "data": {
            "text/plain": [
              "<PIL.Image.Image image mode=L size=91x58 at 0x7F3CAEEE9410>"
            ],
            "image/png": "[encoded data removed]"
          },
          "metadata": {}
        },
        {
          "output_type": "display_data",
          "data": {
            "text/plain": [
              "<PIL.Image.Image image mode=L size=28x28 at 0x7F3CAEEE91D0>"
            ],
            "image/png": "[encoded data removed]"
          },
          "metadata": {}
        },
        {
          "output_type": "display_data",
          "data": {
            "text/plain": [
              "<PIL.Image.Image image mode=L size=92x58 at 0x7F3CAEEE9410>"
            ],
            "image/png": "[encoded data removed]"
          },
          "metadata": {}
        },
        {
          "output_type": "display_data",
          "data": {
            "text/plain": [
              "<PIL.Image.Image image mode=L size=28x28 at 0x7F3CAEEE91D0>"
            ],
            "image/png": "[encoded data removed]"
          },
          "metadata": {}
        },
        {
          "output_type": "display_data",
          "data": {
            "text/plain": [
              "<PIL.Image.Image image mode=L size=91x57 at 0x7F3CAEEE9410>"
            ],
            "image/png": "[encoded data removed]"
          },
          "metadata": {}
        },
        {
          "output_type": "display_data",
          "data": {
            "text/plain": [
              "<PIL.Image.Image image mode=L size=28x28 at 0x7F3CAEEE91D0>"
            ],
            "image/png": "[encoded data removed]"
          },
          "metadata": {}
        },
        {
          "output_type": "display_data",
          "data": {
            "text/plain": [
              "<PIL.Image.Image image mode=L size=91x57 at 0x7F3CAEEE9410>"
            ],
            "image/png": "[encoded data removed]"
          },
          "metadata": {}
        },
        {
          "output_type": "display_data",
          "data": {
            "text/plain": [
              "<PIL.Image.Image image mode=L size=28x28 at 0x7F3CAEEE91D0>"
            ],
            "image/png": "[encoded data removed]"
          },
          "metadata": {}
        },
        {
          "output_type": "display_data",
          "data": {
            "text/plain": [
              "<PIL.Image.Image image mode=L size=91x57 at 0x7F3CAEEE9410>"
            ],
            "image/png": "[encoded data removed]"
          },
          "metadata": {}
        },
        {
          "output_type": "display_data",
          "data": {
            "text/plain": [
              "<PIL.Image.Image image mode=L size=28x28 at 0x7F3CAEEE91D0>"
            ],
            "image/png": "[encoded data removed]"
          },
          "metadata": {}
        },
        {
          "output_type": "display_data",
          "data": {
            "text/plain": [
              "<PIL.Image.Image image mode=L size=91x56 at 0x7F3CAEEE9410>"
            ],
            "image/png": "[encoded data removed]"
          },
          "metadata": {}
        },
        {
          "output_type": "display_data",
          "data": {
            "text/plain": [
              "<PIL.Image.Image image mode=L size=28x28 at 0x7F3CAEEE91D0>"
            ],
            "image/png": "[encoded data removed]"
          },
          "metadata": {}
        },
        {
          "output_type": "display_data",
          "data": {
            "text/plain": [
              "<PIL.Image.Image image mode=L size=91x56 at 0x7F3CAEEE9410>"
            ],
            "image/png": "[encoded data removed]"
          },
          "metadata": {}
        },
        {
          "output_type": "display_data",
          "data": {
            "text/plain": [
              "<PIL.Image.Image image mode=L size=28x28 at 0x7F3CAEEE91D0>"
            ],
            "image/png": "[encoded data removed]"
          },
          "metadata": {}
        },
        {
          "output_type": "display_data",
          "data": {
            "text/plain": [
              "<PIL.Image.Image image mode=L size=91x55 at 0x7F3CAEEE9410>"
            ],
            "image/png": "[encoded data removed]"
          },
          "metadata": {}
        },
        {
          "output_type": "display_data",
          "data": {
            "text/plain": [
              "<PIL.Image.Image image mode=L size=28x28 at 0x7F3CAEEE91D0>"
            ],
            "image/png": "[encoded data removed]"
          },
          "metadata": {}
        },
        {
          "output_type": "display_data",
          "data": {
            "text/plain": [
              "<PIL.Image.Image image mode=L size=91x55 at 0x7F3CAEEE9410>"
            ],
            "image/png": "[encoded data removed]"
          },
          "metadata": {}
        },
        {
          "output_type": "display_data",
          "data": {
            "text/plain": [
              "<PIL.Image.Image image mode=L size=28x28 at 0x7F3CAEEE91D0>"
            ],
            "image/png": "[encoded data removed]"
          },
          "metadata": {}
        },
        {
          "output_type": "display_data",
          "data": {
            "text/plain": [
              "<PIL.Image.Image image mode=L size=91x57 at 0x7F3CAEEE9410>"
            ],
            "image/png": "[encoded data removed]"
          },
          "metadata": {}
        },
        {
          "output_type": "display_data",
          "data": {
            "text/plain": [
              "<PIL.Image.Image image mode=L size=28x28 at 0x7F3CAEEE91D0>"
            ],
            "image/png": "[encoded data removed]"
          },
          "metadata": {}
        },
        {
          "output_type": "display_data",
          "data": {
            "text/plain": [
              "<PIL.Image.Image image mode=L size=90x58 at 0x7F3CAEEE9410>"
            ],
            "image/png": "[encoded data removed]"
          },
          "metadata": {}
        },
        {
          "output_type": "display_data",
          "data": {
            "text/plain": [
              "<PIL.Image.Image image mode=L size=28x28 at 0x7F3CAEEE91D0>"
            ],
            "image/png": "[encoded data removed]"
          },
          "metadata": {}
        },
        {
          "output_type": "display_data",
          "data": {
            "text/plain": [
              "<PIL.Image.Image image mode=L size=91x57 at 0x7F3CAEEE9410>"
            ],
            "image/png": "[encoded data removed]"
          },
          "metadata": {}
        },
        {
          "output_type": "display_data",
          "data": {
            "text/plain": [
              "<PIL.Image.Image image mode=L size=28x28 at 0x7F3CAEEE91D0>"
            ],
            "image/png": "[encoded data removed]"
          },
          "metadata": {}
        },
        {
          "output_type": "display_data",
          "data": {
            "text/plain": [
              "<PIL.Image.Image image mode=L size=91x58 at 0x7F3CAEEE9410>"
            ],
            "image/png": "[encoded data removed]"
          },
          "metadata": {}
        },
        {
          "output_type": "display_data",
          "data": {
            "text/plain": [
              "<PIL.Image.Image image mode=L size=28x28 at 0x7F3CAEEE91D0>"
            ],
            "image/png": "[encoded data removed]"
          },
          "metadata": {}
        }
      ]
    },
    {
      "cell_type": "code",
      "source": [
        "import tensorflow as tf"
      ],
      "metadata": {
        "id": "W-glV_VfOKib"
      },
      "execution_count": null,
      "outputs": []
    },
    {
      "cell_type": "code",
      "source": [
        "#@title Train model\n",
        "\n",
        "#ta có thể sử dụng bộ dữ liệu mnist thông qua keras\n",
        "mnist = tf.keras.datasets.mnist\n",
        "\n",
        "(x_train, y_train), (x_test, y_test) = mnist.load_data()\n",
        "\n",
        "\n",
        "y_train = y_train.astype('float32')\n",
        "y_test = y_test.astype('float32')\n",
        "\n",
        "\n",
        "# nhị phân hóa training dataset\n",
        "mask = x_train > 127.5\n",
        "maskb = x_train <= 127.5\n",
        "x_train[mask] = 255\n",
        "x_train[maskb] = 0\n",
        "\n",
        "# nhị phân hóa testing dataset\n",
        "mask_test = x_test > 127.5\n",
        "mask_test_b = x_test <= 127.5\n",
        "x_test[mask_test] = 255\n",
        "x_test[mask_test_b] = 0\n",
        "\n",
        "# Shift to -1 to 1\n",
        "x_train, x_test = (x_train - 127.5) / 127.5, (x_test - 127.5) / 127.5\n",
        "\n",
        "\n",
        "# Reserve 15,000 samples for validation\n",
        "x_val = x_train[-15000:]\n",
        "y_val = y_train[-15000:]\n",
        "x_train = x_train[:-15000]\n",
        "y_train = y_train[:-15000]\n",
        "\n",
        "# Simple CNN architecture with 3 conv layers\n",
        "# INPUT -> CONV3-32 -> RELU -> CONV3-32 -> RELU  \n",
        "# -> CONV3-32 -> RELU -> POOL -> DROPOUT -> FC -> RELU -> DROPOUT -> SOFTMAX\n",
        "model = tf.keras.models.Sequential([\n",
        "    tf.keras.layers.Conv2D(32, kernel_size=(3, 3),\n",
        "                           activation='relu',\n",
        "                           input_shape=(28, 28, 1)),\n",
        "    tf.keras.layers.Conv2D(32, kernel_size=(3, 3),\n",
        "                           activation='relu'),\n",
        "    tf.keras.layers.Conv2D(32, kernel_size=(3, 3),\n",
        "                           activation='relu'),\n",
        "    # regularization\n",
        "    tf.keras.layers.MaxPooling2D(pool_size=(2, 2)),\n",
        "    # regularization\n",
        "    tf.keras.layers.Dropout(0.5),\n",
        "    tf.keras.layers.Flatten(),\n",
        "    tf.keras.layers.Dense(128, activation='relu'),\n",
        "    # regularization\n",
        "    tf.keras.layers.Dropout(0.25),\n",
        "    tf.keras.layers.Dense(10, activation='softmax')\n",
        "])\n",
        "\n",
        "model.summary()\n",
        "model.compile(optimizer='adam',\n",
        "              loss='sparse_categorical_crossentropy',\n",
        "              metrics=['accuracy'])\n",
        "\n",
        "\n",
        "x_train = np.reshape(x_train, (x_train.shape[0], x_train.shape[1], x_train.shape[2], 1))\n",
        "x_test = np.reshape(x_test, (x_test.shape[0], x_test.shape[1], x_test.shape[2], 1))\n",
        "x_val = np.reshape(x_val, (x_val.shape[0], x_val.shape[1], x_val.shape[2], 1))\n",
        "\n",
        "\n",
        "model_data = model.fit(x_train, y_train, epochs=10, batch_size=128, validation_data=(x_val, y_val))\n",
        "model.evaluate(x_test, y_test, verbose=2)\n",
        "\n",
        "# plot\n",
        "plt.subplot(2, 1, 1)\n",
        "plt.plot(model_data.history['accuracy'])\n",
        "plt.plot(model_data.history['val_accuracy'])\n",
        "plt.title('model accuracy')\n",
        "plt.ylabel('accuracy')\n",
        "plt.xlabel('epoch')\n",
        "plt.legend(['train acc', 'val acc'], loc='lower right')\n",
        "plt.subplot(2, 1, 2)\n",
        "plt.plot(model_data.history['loss'])\n",
        "plt.plot(model_data.history['val_loss'])\n",
        "plt.title('model loss')\n",
        "plt.ylabel('loss')\n",
        "plt.xlabel('epoch')\n",
        "plt.legend(['train loss', 'val loss'], loc='upper right')\n",
        "plt.tight_layout()\n",
        "plt.show()\n",
        "\n",
        "\n",
        "model.save('./models/model_tensorflow')"
      ],
      "metadata": {
        "id": "3nMCXT6OGZzg",
        "colab": {
          "base_uri": "https://localhost:8080/",
          "height": 1000
        },
        "outputId": "b9d8f742-7b75-4fea-c50f-0256e323c2d9"
      },
      "execution_count": null,
      "outputs": [
        {
          "output_type": "stream",
          "name": "stdout",
          "text": [
            "Downloading data from https://storage.googleapis.com/tensorflow/tf-keras-datasets/mnist.npz\n",
            "11493376/11490434 [==============================] - 0s 0us/step\n",
            "11501568/11490434 [==============================] - 0s 0us/step\n",
            "Model: \"sequential\"\n",
            "_________________________________________________________________\n",
            " Layer (type)                Output Shape              Param #   \n",
            "=================================================================\n",
            " conv2d (Conv2D)             (None, 26, 26, 32)        320       \n",
            "                                                                 \n",
            " conv2d_1 (Conv2D)           (None, 24, 24, 32)        9248      \n",
            "                                                                 \n",
            " conv2d_2 (Conv2D)           (None, 22, 22, 32)        9248      \n",
            "                                                                 \n",
            " max_pooling2d (MaxPooling2D  (None, 11, 11, 32)       0         \n",
            " )                                                               \n",
            "                                                                 \n",
            " dropout (Dropout)           (None, 11, 11, 32)        0         \n",
            "                                                                 \n",
            " flatten (Flatten)           (None, 3872)              0         \n",
            "                                                                 \n",
            " dense (Dense)               (None, 128)               495744    \n",
            "                                                                 \n",
            " dropout_1 (Dropout)         (None, 128)               0         \n",
            "                                                                 \n",
            " dense_1 (Dense)             (None, 10)                1290      \n",
            "                                                                 \n",
            "=================================================================\n",
            "Total params: 515,850\n",
            "Trainable params: 515,850\n",
            "Non-trainable params: 0\n",
            "_________________________________________________________________\n",
            "Epoch 1/10\n",
            "352/352 [==============================] - 15s 11ms/step - loss: 0.2725 - accuracy: 0.9158 - val_loss: 0.0713 - val_accuracy: 0.9778\n",
            "Epoch 2/10\n",
            "352/352 [==============================] - 4s 10ms/step - loss: 0.0872 - accuracy: 0.9733 - val_loss: 0.0508 - val_accuracy: 0.9845\n",
            "Epoch 3/10\n",
            "352/352 [==============================] - 3s 9ms/step - loss: 0.0675 - accuracy: 0.9793 - val_loss: 0.0509 - val_accuracy: 0.9855\n",
            "Epoch 4/10\n",
            "352/352 [==============================] - 3s 10ms/step - loss: 0.0542 - accuracy: 0.9832 - val_loss: 0.0464 - val_accuracy: 0.9855\n",
            "Epoch 5/10\n",
            "352/352 [==============================] - 3s 10ms/step - loss: 0.0474 - accuracy: 0.9852 - val_loss: 0.0409 - val_accuracy: 0.9879\n",
            "Epoch 6/10\n",
            "352/352 [==============================] - 3s 10ms/step - loss: 0.0395 - accuracy: 0.9870 - val_loss: 0.0426 - val_accuracy: 0.9877\n",
            "Epoch 7/10\n",
            "352/352 [==============================] - 3s 9ms/step - loss: 0.0382 - accuracy: 0.9876 - val_loss: 0.0415 - val_accuracy: 0.9879\n",
            "Epoch 8/10\n",
            "352/352 [==============================] - 3s 9ms/step - loss: 0.0324 - accuracy: 0.9896 - val_loss: 0.0372 - val_accuracy: 0.9889\n",
            "Epoch 9/10\n",
            "352/352 [==============================] - 3s 9ms/step - loss: 0.0306 - accuracy: 0.9900 - val_loss: 0.0349 - val_accuracy: 0.9894\n",
            "Epoch 10/10\n",
            "352/352 [==============================] - 3s 9ms/step - loss: 0.0279 - accuracy: 0.9908 - val_loss: 0.0370 - val_accuracy: 0.9887\n",
            "313/313 - 1s - loss: 0.0298 - accuracy: 0.9899 - 816ms/epoch - 3ms/step\n"
          ]
        },
        {
          "output_type": "display_data",
          "data": {
            "text/plain": [
              "<Figure size 432x288 with 2 Axes>"
            ],
            "image/png": "[encoded data removed]"
          },
          "metadata": {
            "needs_background": "light"
          }
        },
        {
          "output_type": "stream",
          "name": "stdout",
          "text": [
            "INFO:tensorflow:Assets written to: ./models/model_tensorflow/assets\n"
          ]
        }
      ]
    },
    {
      "cell_type": "code",
      "source": [
        "predict_model = tf.keras.models.load_model('./models/model_tensorflow')\n",
        "predict_model.summary()"
      ],
      "metadata": {
        "id": "rLgr8hiPOPto",
        "colab": {
          "base_uri": "https://localhost:8080/"
        },
        "outputId": "a210bb0e-4ac8-44a9-d01a-23141bdbead2"
      },
      "execution_count": null,
      "outputs": [
        {
          "output_type": "stream",
          "name": "stdout",
          "text": [
            "Model: \"sequential\"\n",
            "_________________________________________________________________\n",
            " Layer (type)                Output Shape              Param #   \n",
            "=================================================================\n",
            " conv2d (Conv2D)             (None, 26, 26, 32)        320       \n",
            "                                                                 \n",
            " conv2d_1 (Conv2D)           (None, 24, 24, 32)        9248      \n",
            "                                                                 \n",
            " conv2d_2 (Conv2D)           (None, 22, 22, 32)        9248      \n",
            "                                                                 \n",
            " max_pooling2d (MaxPooling2D  (None, 11, 11, 32)       0         \n",
            " )                                                               \n",
            "                                                                 \n",
            " dropout (Dropout)           (None, 11, 11, 32)        0         \n",
            "                                                                 \n",
            " flatten (Flatten)           (None, 3872)              0         \n",
            "                                                                 \n",
            " dense (Dense)               (None, 128)               495744    \n",
            "                                                                 \n",
            " dropout_1 (Dropout)         (None, 128)               0         \n",
            "                                                                 \n",
            " dense_1 (Dense)             (None, 10)                1290      \n",
            "                                                                 \n",
            "=================================================================\n",
            "Total params: 515,850\n",
            "Trainable params: 515,850\n",
            "Non-trainable params: 0\n",
            "_________________________________________________________________\n"
          ]
        }
      ]
    },
    {
      "cell_type": "code",
      "source": [
        "#@title Default title text\n",
        "from PIL import Image, ImageEnhance\n",
        "def preprocess(img, factor: int):\n",
        "    gray = cv2.cvtColor(img, cv2.COLOR_BGR2GRAY)\n",
        "    img = Image.fromarray(img)\n",
        "    enhancer = ImageEnhance.Sharpness(img).enhance(factor)\n",
        "    if gray.std() < 30:\n",
        "        enhancer = ImageEnhance.Contrast(enhancer).enhance(factor)\n",
        "    return np.array(enhancer)"
      ],
      "metadata": {
        "id": "MXsNTWC_fDMd",
        "cellView": "form"
      },
      "execution_count": null,
      "outputs": []
    },
    {
      "cell_type": "code",
      "source": [
        "def get_com_shift(img):\n",
        "    \"\"\" Get the delta x and y from center based on center of mass. \"\"\"\n",
        "    M = cv2.moments(img)\n",
        "    height, width = img.shape\n",
        "    cX = int(M[\"m10\"] / M[\"m00\"])\n",
        "    cY = int(M[\"m01\"] / M[\"m00\"])\n",
        "    shift_x = np.round(width/2.0-cX).astype(int)\n",
        "    shift_y = np.round(height/2.0-cY).astype(int)\n",
        "    return shift_x, shift_y\n",
        "def shift_by(img, delta_x, delta_y):\n",
        "    \"\"\" Returns a translated image center by delta_x and delta_y. \"\"\"\n",
        "    rows, cols = img.shape\n",
        "    M = np.float32([[1, 0, delta_x], [0, 1, delta_y]])\n",
        "    return cv2.warpAffine(img, M, (cols, rows))\n",
        "sai = 0;\n",
        "for i in range(0,41):\n",
        "    roi_fit_20x20 = 20 / max(re[i].shape[0], re[i].shape[1])\n",
        "    # Resize preserving binary format with INTER_NEAREST\n",
        "    re[i] = cv2.resize(re[i], None, fx=roi_fit_20x20, fy=roi_fit_20x20, interpolation=cv2.INTER_LINEAR)\n",
        "    roi_background = np.zeros((28, 28), dtype=re[i].dtype)\n",
        "    # Place the digit in the roi_background, 4 from top and 4 from left.\n",
        "    roi_background[4:4+re[i].shape[0], 4:4+re[i].shape[1]] = re[i]\n",
        "    delta_x, delta_y = get_com_shift(roi_background)\n",
        "    roi_background = shift_by(roi_background, delta_x, delta_y)\n",
        "    roi_background = roi_background - 117.5\n",
        "    roi_background /= 117.5\n",
        "    prediction = predict_model(np.reshape(roi_background, (1, 28, 28, 1)))\n",
        "    predicted_digit = np.argmax(prediction)\n",
        "    print(predicted_digit)\n",
        "    if (predicted_digit != diem[i]):\n",
        "      sai += 1\n",
        "    cv2_imshow(re[i])"
      ],
      "metadata": {
        "colab": {
          "base_uri": "https://localhost:8080/",
          "height": 1000
        },
        "id": "0Y6G7NhubPQC",
        "outputId": "618f551c-1819-4158-e182-683ceb2a6957"
      },
      "execution_count": null,
      "outputs": [
        {
          "output_type": "stream",
          "name": "stdout",
          "text": [
            "7\n"
          ]
        },
        {
          "output_type": "display_data",
          "data": {
            "text/plain": [
              "<PIL.Image.Image image mode=L size=20x20 at 0x7F5ABE18AE50>"
            ],
            "image/png": "[encoded data removed]"
          },
          "metadata": {}
        },
        {
          "output_type": "stream",
          "name": "stdout",
          "text": [
            "5\n"
          ]
        },
        {
          "output_type": "display_data",
          "data": {
            "text/plain": [
              "<PIL.Image.Image image mode=L size=20x20 at 0x7F5A981C9D10>"
            ],
            "image/png": "[encoded data removed]"
          },
          "metadata": {}
        },
        {
          "output_type": "stream",
          "name": "stdout",
          "text": [
            "6\n"
          ]
        },
        {
          "output_type": "display_data",
          "data": {
            "text/plain": [
              "<PIL.Image.Image image mode=L size=20x20 at 0x7F5ABF667490>"
            ],
            "image/png": "[encoded data removed]"
          },
          "metadata": {}
        },
        {
          "output_type": "stream",
          "name": "stdout",
          "text": [
            "6\n"
          ]
        },
        {
          "output_type": "display_data",
          "data": {
            "text/plain": [
              "<PIL.Image.Image image mode=L size=20x20 at 0x7F5B6590A510>"
            ],
            "image/png": "[encoded data removed]"
          },
          "metadata": {}
        },
        {
          "output_type": "stream",
          "name": "stdout",
          "text": [
            "3\n"
          ]
        },
        {
          "output_type": "display_data",
          "data": {
            "text/plain": [
              "<PIL.Image.Image image mode=L size=20x20 at 0x7F5ABE1D5C10>"
            ],
            "image/png": "[encoded data removed]"
          },
          "metadata": {}
        },
        {
          "output_type": "stream",
          "name": "stdout",
          "text": [
            "8\n"
          ]
        },
        {
          "output_type": "display_data",
          "data": {
            "text/plain": [
              "<PIL.Image.Image image mode=L size=20x20 at 0x7F5A981C7BD0>"
            ],
            "image/png": "[encoded data removed]"
          },
          "metadata": {}
        },
        {
          "output_type": "stream",
          "name": "stdout",
          "text": [
            "9\n"
          ]
        },
        {
          "output_type": "display_data",
          "data": {
            "text/plain": [
              "<PIL.Image.Image image mode=L size=20x20 at 0x7F5ABE264890>"
            ],
            "image/png": "[encoded data removed]"
          },
          "metadata": {}
        },
        {
          "output_type": "stream",
          "name": "stdout",
          "text": [
            "4\n"
          ]
        },
        {
          "output_type": "display_data",
          "data": {
            "text/plain": [
              "<PIL.Image.Image image mode=L size=20x20 at 0x7F5A981C9D90>"
            ],
            "image/png": "[encoded data removed]"
          },
          "metadata": {}
        },
        {
          "output_type": "stream",
          "name": "stdout",
          "text": [
            "6\n"
          ]
        },
        {
          "output_type": "display_data",
          "data": {
            "text/plain": [
              "<PIL.Image.Image image mode=L size=20x20 at 0x7F5ABE18AC10>"
            ],
            "image/png": "[encoded data removed]"
          },
          "metadata": {}
        },
        {
          "output_type": "stream",
          "name": "stdout",
          "text": [
            "8\n"
          ]
        },
        {
          "output_type": "display_data",
          "data": {
            "text/plain": [
              "<PIL.Image.Image image mode=L size=20x20 at 0x7F5A981C93D0>"
            ],
            "image/png": "[encoded data removed]"
          },
          "metadata": {}
        },
        {
          "output_type": "stream",
          "name": "stdout",
          "text": [
            "6\n"
          ]
        },
        {
          "output_type": "display_data",
          "data": {
            "text/plain": [
              "<PIL.Image.Image image mode=L size=20x20 at 0x7F5ABF60B090>"
            ],
            "image/png": "[encoded data removed]"
          },
          "metadata": {}
        },
        {
          "output_type": "stream",
          "name": "stdout",
          "text": [
            "7\n"
          ]
        },
        {
          "output_type": "display_data",
          "data": {
            "text/plain": [
              "<PIL.Image.Image image mode=L size=20x20 at 0x7F5ABE264890>"
            ],
            "image/png": "[encoded data removed]"
          },
          "metadata": {}
        },
        {
          "output_type": "stream",
          "name": "stdout",
          "text": [
            "5\n"
          ]
        },
        {
          "output_type": "display_data",
          "data": {
            "text/plain": [
              "<PIL.Image.Image image mode=L size=20x20 at 0x7F5ABF60B950>"
            ],
            "image/png": "[encoded data removed]"
          },
          "metadata": {}
        },
        {
          "output_type": "stream",
          "name": "stdout",
          "text": [
            "6\n"
          ]
        },
        {
          "output_type": "display_data",
          "data": {
            "text/plain": [
              "<PIL.Image.Image image mode=L size=20x20 at 0x7F5ABE264890>"
            ],
            "image/png": "[encoded data removed]"
          },
          "metadata": {}
        },
        {
          "output_type": "stream",
          "name": "stdout",
          "text": [
            "8\n"
          ]
        },
        {
          "output_type": "display_data",
          "data": {
            "text/plain": [
              "<PIL.Image.Image image mode=L size=20x20 at 0x7F5ABE18A810>"
            ],
            "image/png": "[encoded data removed]"
          },
          "metadata": {}
        },
        {
          "output_type": "stream",
          "name": "stdout",
          "text": [
            "4\n"
          ]
        },
        {
          "output_type": "display_data",
          "data": {
            "text/plain": [
              "<PIL.Image.Image image mode=L size=20x20 at 0x7F5ABE18A050>"
            ],
            "image/png": "[encoded data removed]"
          },
          "metadata": {}
        },
        {
          "output_type": "stream",
          "name": "stdout",
          "text": [
            "3\n"
          ]
        },
        {
          "output_type": "display_data",
          "data": {
            "text/plain": [
              "<PIL.Image.Image image mode=L size=20x20 at 0x7F5ABE18AF50>"
            ],
            "image/png": "[encoded data removed]"
          },
          "metadata": {}
        },
        {
          "output_type": "stream",
          "name": "stdout",
          "text": [
            "5\n"
          ]
        },
        {
          "output_type": "display_data",
          "data": {
            "text/plain": [
              "<PIL.Image.Image image mode=L size=20x20 at 0x7F5ABE18A6D0>"
            ],
            "image/png": "[encoded data removed]"
          },
          "metadata": {}
        },
        {
          "output_type": "stream",
          "name": "stdout",
          "text": [
            "5\n"
          ]
        },
        {
          "output_type": "display_data",
          "data": {
            "text/plain": [
              "<PIL.Image.Image image mode=L size=20x20 at 0x7F5A981C9A90>"
            ],
            "image/png": "[encoded data removed]"
          },
          "metadata": {}
        },
        {
          "output_type": "stream",
          "name": "stdout",
          "text": [
            "5\n"
          ]
        },
        {
          "output_type": "display_data",
          "data": {
            "text/plain": [
              "<PIL.Image.Image image mode=L size=20x20 at 0x7F5A981C9B10>"
            ],
            "image/png": "[encoded data removed]"
          },
          "metadata": {}
        },
        {
          "output_type": "stream",
          "name": "stdout",
          "text": [
            "6\n"
          ]
        },
        {
          "output_type": "display_data",
          "data": {
            "text/plain": [
              "<PIL.Image.Image image mode=L size=20x20 at 0x7F5A981C93D0>"
            ],
            "image/png": "[encoded data removed]"
          },
          "metadata": {}
        },
        {
          "output_type": "stream",
          "name": "stdout",
          "text": [
            "7\n"
          ]
        },
        {
          "output_type": "display_data",
          "data": {
            "text/plain": [
              "<PIL.Image.Image image mode=L size=20x20 at 0x7F5ABF661ED0>"
            ],
            "image/png": "[encoded data removed]"
          },
          "metadata": {}
        },
        {
          "output_type": "stream",
          "name": "stdout",
          "text": [
            "6\n"
          ]
        },
        {
          "output_type": "display_data",
          "data": {
            "text/plain": [
              "<PIL.Image.Image image mode=L size=20x20 at 0x7F5ABE18A790>"
            ],
            "image/png": "[encoded data removed]"
          },
          "metadata": {}
        },
        {
          "output_type": "stream",
          "name": "stdout",
          "text": [
            "5\n"
          ]
        },
        {
          "output_type": "display_data",
          "data": {
            "text/plain": [
              "<PIL.Image.Image image mode=L size=20x20 at 0x7F5A981C9510>"
            ],
            "image/png": "[encoded data removed]"
          },
          "metadata": {}
        },
        {
          "output_type": "stream",
          "name": "stdout",
          "text": [
            "7\n"
          ]
        },
        {
          "output_type": "display_data",
          "data": {
            "text/plain": [
              "<PIL.Image.Image image mode=L size=20x20 at 0x7F5A981C7D10>"
            ],
            "image/png": "[encoded data removed]"
          },
          "metadata": {}
        },
        {
          "output_type": "stream",
          "name": "stdout",
          "text": [
            "7\n"
          ]
        },
        {
          "output_type": "display_data",
          "data": {
            "text/plain": [
              "<PIL.Image.Image image mode=L size=20x20 at 0x7F5ABE18A350>"
            ],
            "image/png": "[encoded data removed]"
          },
          "metadata": {}
        },
        {
          "output_type": "stream",
          "name": "stdout",
          "text": [
            "6\n"
          ]
        },
        {
          "output_type": "display_data",
          "data": {
            "text/plain": [
              "<PIL.Image.Image image mode=L size=20x20 at 0x7F5ABF667A50>"
            ],
            "image/png": "[encoded data removed]"
          },
          "metadata": {}
        },
        {
          "output_type": "stream",
          "name": "stdout",
          "text": [
            "6\n"
          ]
        },
        {
          "output_type": "display_data",
          "data": {
            "text/plain": [
              "<PIL.Image.Image image mode=L size=20x20 at 0x7F5ABE18AE10>"
            ],
            "image/png": "[encoded data removed]"
          },
          "metadata": {}
        },
        {
          "output_type": "stream",
          "name": "stdout",
          "text": [
            "4\n"
          ]
        },
        {
          "output_type": "display_data",
          "data": {
            "text/plain": [
              "<PIL.Image.Image image mode=L size=20x20 at 0x7F5A981C9A10>"
            ],
            "image/png": "[encoded data removed]"
          },
          "metadata": {}
        },
        {
          "output_type": "stream",
          "name": "stdout",
          "text": [
            "3\n"
          ]
        },
        {
          "output_type": "display_data",
          "data": {
            "text/plain": [
              "<PIL.Image.Image image mode=L size=20x20 at 0x7F5AD01FB650>"
            ],
            "image/png": "[encoded data removed]"
          },
          "metadata": {}
        },
        {
          "output_type": "stream",
          "name": "stdout",
          "text": [
            "5\n"
          ]
        },
        {
          "output_type": "display_data",
          "data": {
            "text/plain": [
              "<PIL.Image.Image image mode=L size=20x20 at 0x7F5A981C7D10>"
            ],
            "image/png": "[encoded data removed]"
          },
          "metadata": {}
        },
        {
          "output_type": "stream",
          "name": "stdout",
          "text": [
            "7\n"
          ]
        },
        {
          "output_type": "display_data",
          "data": {
            "text/plain": [
              "<PIL.Image.Image image mode=L size=20x20 at 0x7F5ABE18ACD0>"
            ],
            "image/png": "[encoded data removed]"
          },
          "metadata": {}
        },
        {
          "output_type": "stream",
          "name": "stdout",
          "text": [
            "7\n"
          ]
        },
        {
          "output_type": "display_data",
          "data": {
            "text/plain": [
              "<PIL.Image.Image image mode=L size=20x20 at 0x7F5A981C9D10>"
            ],
            "image/png": "[encoded data removed]"
          },
          "metadata": {}
        },
        {
          "output_type": "stream",
          "name": "stdout",
          "text": [
            "5\n"
          ]
        },
        {
          "output_type": "display_data",
          "data": {
            "text/plain": [
              "<PIL.Image.Image image mode=L size=20x20 at 0x7F5ABE18AE50>"
            ],
            "image/png": "[encoded data removed]"
          },
          "metadata": {}
        },
        {
          "output_type": "stream",
          "name": "stdout",
          "text": [
            "1\n"
          ]
        },
        {
          "output_type": "display_data",
          "data": {
            "text/plain": [
              "<PIL.Image.Image image mode=L size=20x20 at 0x7F5ABE18AC10>"
            ],
            "image/png": "[encoded data removed]"
          },
          "metadata": {}
        },
        {
          "output_type": "stream",
          "name": "stdout",
          "text": [
            "8\n"
          ]
        },
        {
          "output_type": "display_data",
          "data": {
            "text/plain": [
              "<PIL.Image.Image image mode=L size=20x20 at 0x7F5A981C7D10>"
            ],
            "image/png": "[encoded data removed]"
          },
          "metadata": {}
        },
        {
          "output_type": "stream",
          "name": "stdout",
          "text": [
            "6\n"
          ]
        },
        {
          "output_type": "display_data",
          "data": {
            "text/plain": [
              "<PIL.Image.Image image mode=L size=20x20 at 0x7F5ABE18AE50>"
            ],
            "image/png": "[encoded data removed]"
          },
          "metadata": {}
        },
        {
          "output_type": "stream",
          "name": "stdout",
          "text": [
            "6\n"
          ]
        },
        {
          "output_type": "display_data",
          "data": {
            "text/plain": [
              "<PIL.Image.Image image mode=L size=20x20 at 0x7F5A99064F90>"
            ],
            "image/png": "[encoded data removed]"
          },
          "metadata": {}
        },
        {
          "output_type": "stream",
          "name": "stdout",
          "text": [
            "1\n"
          ]
        },
        {
          "output_type": "display_data",
          "data": {
            "text/plain": [
              "<PIL.Image.Image image mode=L size=20x20 at 0x7F5A981C9A10>"
            ],
            "image/png": "[encoded data removed]"
          },
          "metadata": {}
        },
        {
          "output_type": "stream",
          "name": "stdout",
          "text": [
            "8\n"
          ]
        },
        {
          "output_type": "display_data",
          "data": {
            "text/plain": [
              "<PIL.Image.Image image mode=L size=20x20 at 0x7F5ABE18A310>"
            ],
            "image/png": "[encoded data removed]"
          },
          "metadata": {}
        },
        {
          "output_type": "stream",
          "name": "stdout",
          "text": [
            "1\n"
          ]
        },
        {
          "output_type": "display_data",
          "data": {
            "text/plain": [
              "<PIL.Image.Image image mode=L size=20x20 at 0x7F5ABE18AC10>"
            ],
            "image/png": "[encoded data removed]"
          },
          "metadata": {}
        }
      ]
    },
    {
      "cell_type": "code",
      "source": [
        ""
      ],
      "metadata": {
        "id": "Gsjn9HXisq-Y"
      },
      "execution_count": null,
      "outputs": []
    },
    {
      "cell_type": "code",
      "source": [
        "# số lượng số nhận dạng sai\n",
        "print(sai)"
      ],
      "metadata": {
        "colab": {
          "base_uri": "https://localhost:8080/"
        },
        "id": "FNntd7gu7ss-",
        "outputId": "5fe9acb0-addb-4e3b-9ce7-a08ecbf4fb06"
      },
      "execution_count": null,
      "outputs": [
        {
          "output_type": "stream",
          "name": "stdout",
          "text": [
            "9\n"
          ]
        }
      ]
    },
    {
      "cell_type": "code",
      "source": [
        "#@title Default title text\n",
        "roi_fit_20x20 = 20 / max(re[0].shape[0], re[0].shape[1])\n",
        "roi = []\n",
        "for i in range (0, 41):\n",
        "    roi.append(cv2.resize(re[i], None, fx=roi_fit_20x20, fy=roi_fit_20x20, interpolation=cv2.INTER_NEAREST)) \n",
        "    cv2_imshow(roi[i])"
      ],
      "metadata": {
        "id": "rjrP2nQyTGxJ",
        "cellView": "form"
      },
      "execution_count": null,
      "outputs": []
    },
    {
      "cell_type": "code",
      "source": [
        "#@title Default title text\n",
        "len(roi)"
      ],
      "metadata": {
        "id": "c_W71HTN07TQ",
        "cellView": "form"
      },
      "execution_count": null,
      "outputs": []
    },
    {
      "cell_type": "code",
      "source": [
        "#@title Default title text\n",
        "roi_background = []\n",
        "for i in range (0, 40):\n",
        "    roi_background.append(np.zeros((28, 28), dtype=roi[i].dtype))\n",
        "    roi_background[i][4:4+roi[i].shape[0], 4:4+roi[i].shape[1]] = roi[i]\n",
        "    cv2_imshow(roi_background[i])"
      ],
      "metadata": {
        "id": "w613HXEBT08U",
        "cellView": "form"
      },
      "execution_count": null,
      "outputs": []
    },
    {
      "cell_type": "code",
      "source": [
        "#@title Default title text\n",
        "def get_com_shift(img):\n",
        "    \"\"\" Get the delta x and y from center based on center of mass. \"\"\"\n",
        "    M = cv2.moments(img)\n",
        "    height, width = img.shape\n",
        "    cX = int(M[\"m10\"] / M[\"m00\"])\n",
        "    cY = int(M[\"m01\"] / M[\"m00\"])\n",
        "    shift_x = np.round(width/2.0-cX).astype(int)\n",
        "    shift_y = np.round(height/2.0-cY).astype(int)\n",
        "    return shift_x, shift_y\n",
        "def shift_by(img, delta_x, delta_y):\n",
        "    \"\"\" Returns a translated image center by delta_x and delta_y. \"\"\"\n",
        "    rows, cols = img.shape\n",
        "    M = np.float32([[1, 0, delta_x], [0, 1, delta_y]])\n",
        "    return cv2.warpAffine(img, M, (cols, rows))\n",
        "    \n",
        "# Get the translation based on center of mass\n",
        "delta_x = []\n",
        "delta_y = []\n",
        "prediction = []\n",
        "predicted_digit = []\n",
        "for i in range (0, 40):\n",
        "    x, y = get_com_shift(roi_background[i])\n",
        "    delta_x.append(x)\n",
        "    delta_y.append(y)\n",
        "    roi_background[i] = shift_by(roi_background[i], delta_x[i], delta_y[i])\n",
        "    roi_background[i] = roi_background[i] - 127.5\n",
        "    roi_background[i] /= 127.5\n",
        "    prediction.append(predict_model(np.reshape(roi_background[i], (1, 28, 28, 1))))\n",
        "    predicted_digit.append(np.argmax(prediction[i]))\n",
        "    print(predicted_digit[i])\n",
        "    cv2_imshow(roi[i])"
      ],
      "metadata": {
        "id": "uxNkVqTYVWKq",
        "cellView": "form"
      },
      "execution_count": null,
      "outputs": []
    }
  ],
  "metadata": {
    "colab": {
      "name": "Final.ipynb",
      "provenance": [],
      "collapsed_sections": []
    },
    "kernelspec": {
      "display_name": "Python 3",
      "name": "python3"
    },
    "language_info": {
      "name": "python"
    },
    "accelerator": "GPU",
    "gpuClass": "standard"
  },
  "nbformat": 4,
  "nbformat_minor": 0
}